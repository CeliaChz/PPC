{
 "cells": [
  {
   "cell_type": "markdown",
   "metadata": {},
   "source": [
    "# Programmation par contrainte: évaluation pratique\n",
    "## 5-SDBD + mastère VALDOM, INSA Toulouse, janvier 2023"
   ]
  },
  {
   "cell_type": "markdown",
   "metadata": {},
   "source": [
    "## Première partie"
   ]
  },
  {
   "cell_type": "markdown",
   "metadata": {},
   "source": [
    "On utilise tout au long de ce sujet deux ensembles d’agents H = {h1, . . . hn} et F = {f1, . . . fn}. Chaque agent\n",
    "hi ∈ H exprime ses préférences de couplage avec un agent de F à travers une liste L(hi) contenant les éléments de F\n",
    "sans duplication. Pour tout k ∈ [1, n − 1], hi préfère être couplé avec le kème agent dans L(hi) que le k + 1ème agent.\n",
    "De la même façon, chaque agent fj ∈ F exprime ses préférences de couplage avec un agent de H à travers une liste\n",
    "L(fj ).\n",
    "\n",
    "Un tuple (h, f ) est appelé un couple si h ∈ H et f ∈ F . Soit M un ensemble de couples. Un agent a préfère un\n",
    "agent b à sa situation dans M si a n’appartient à aucun couple dans M ou si a préfère b à son partenaire dans M . Un\n",
    "couple (h, f ) ∈ M bloque M si h préfère f à sa situation dans M et f préfère h à sa situation dans M .\n",
    "Un mariage stable est un ensemble de couples M tel que chaque agent est couplé avec un seul agent et M n’admet\n",
    "aucun couple bloquant. On note qu’une instance de ce problème peut admettre plusieurs solutions."
   ]
  },
  {
   "cell_type": "code",
   "execution_count": 229,
   "metadata": {},
   "outputs": [],
   "source": [
    "from config import setup\n",
    "setup()\n",
    "\n",
    "from docplex.cp.model import *\n",
    "from docplex.cp.config import get_default\n",
    "\n",
    "import numpy as np\n",
    "%matplotlib inline"
   ]
  },
  {
   "cell_type": "markdown",
   "metadata": {},
   "source": [
    "1. Proposez un modèle de programmation par contrainte pour trouver un mariage stable. Le modèle peut inclure\n",
    "des contraintes logiques (par exemple if_then). L’utilisation de ce genre de contraintes est accessible dans la\n",
    "documentation du solveur. Utilisez la recherche en profondeur par défaut ((’DepthFirst’) sans préciser des\n",
    "heuristiques de branchements. N’affichez pas les traces d’exécutions internes du solveur."
   ]
  },
  {
   "cell_type": "code",
   "execution_count": 298,
   "metadata": {},
   "outputs": [],
   "source": [
    "from random import shuffle\n",
    "\n",
    "def generate_prefs(n):\n",
    "    \n",
    "    Lh = []\n",
    "    Lf = []\n",
    "    for i in range(n):\n",
    "        h = list(set(list(range(n))))\n",
    "        f = list(set(list(range(n))))\n",
    "        shuffle(h)\n",
    "        Lh.append(h)\n",
    "        shuffle(f)\n",
    "        Lf.append(f)\n",
    "        \n",
    "    return Lh, Lf"
   ]
  },
  {
   "cell_type": "code",
   "execution_count": 299,
   "metadata": {},
   "outputs": [],
   "source": [
    "#Lf, Lh = generate_prefs(4)"
   ]
  },
  {
   "cell_type": "code",
   "execution_count": 300,
   "metadata": {},
   "outputs": [
    {
     "name": "stdout",
     "output_type": "stream",
     "text": [
      "[[1, 2, 0, 3], [3, 0, 2, 1], [1, 3, 0, 2], [2, 0, 3, 1]] \n",
      "\n",
      " [[1, 0, 2, 3], [2, 3, 0, 1], [0, 2, 3, 1], [1, 0, 2, 3]]\n"
     ]
    }
   ],
   "source": [
    "#Données du problème\n",
    "\n",
    "#Nombre d'agents dans chaque groupe\n",
    "n = 4\n",
    "\n",
    "#Matrice de préférences de H (liste de listes)\n",
    "#La préférence est décroissante : plus un agent a un indice bas, plus la préférence est élevée\n",
    "Lh_old = [[2,3,1,4], \n",
    "      [4,1,3,2],\n",
    "      [2,4,1,3],\n",
    "      [3,1,4,2]]\n",
    "one = np.ones((4,4), dtype = int)\n",
    "Lh = (Lh_old - one).tolist()\n",
    "\n",
    "#Matrice de préférences de F\n",
    "Lf_old = [[2,1,3,4],\n",
    "      [3,4,1,2],\n",
    "      [1,3,4,2],\n",
    "      [2,1,3,4]]\n",
    "Lf = (Lf_old - one).tolist()\n",
    "\n",
    "print(Lh, \"\\n\\n\", Lf)"
   ]
  },
  {
   "cell_type": "code",
   "execution_count": 331,
   "metadata": {},
   "outputs": [],
   "source": [
    "def print_prefs(Lh,Lf):\n",
    "    print(\"##___Lh___##\")\n",
    "    for i in range(n):\n",
    "        print(Lh[i])\n",
    "    print(\"\\n\")\n",
    "    \n",
    "    print(\"##___Lf___##\")\n",
    "    for i in range(n):\n",
    "        print(Lf[i])"
   ]
  },
  {
   "cell_type": "code",
   "execution_count": 332,
   "metadata": {},
   "outputs": [
    {
     "name": "stdout",
     "output_type": "stream",
     "text": [
      "##___Lh___##\n",
      "[1, 2, 0, 3]\n",
      "[3, 0, 2, 1]\n",
      "[1, 3, 0, 2]\n",
      "[2, 0, 3, 1]\n",
      "\n",
      "\n",
      "##___Lf___##\n",
      "[1, 0, 2, 3]\n",
      "[2, 3, 0, 1]\n",
      "[0, 2, 3, 1]\n",
      "[1, 0, 2, 3]\n"
     ]
    }
   ],
   "source": [
    "print_prefs(Lh,Lf)"
   ]
  },
  {
   "cell_type": "code",
   "execution_count": 301,
   "metadata": {
    "scrolled": true
   },
   "outputs": [],
   "source": [
    "#Représentation des couples : l'agent h_i est en couple avec l'agent f_couple[i]\n",
    "#Exemple : si couple = [1, 3, 4, 2] alors l'agent h2 est en couple avec f4 \n",
    "#couples = mdl.integer_var_list(n,0,n-1,'c')"
   ]
  },
  {
   "cell_type": "code",
   "execution_count": 346,
   "metadata": {},
   "outputs": [],
   "source": [
    "def print_sol(sol,n):\n",
    "    if sol.solve_status == \"Feasible\":\n",
    "        res = \"L'ensemble M={\"\n",
    "        for i in range(n):\n",
    "            for j in range(n):\n",
    "                if sol.get_value(couples[i][j]) == 1:\n",
    "                    res = res + \"(h_\" + str(i) + \",f_\" + str(j) + \"),\"\n",
    "        res = res[:-1] + \"}\" + \" est un mariage stable.\"\n",
    "\n",
    "        print(res)\n",
    "    else:\n",
    "        print(\"Ce modèle ne possède pas de solutions.\")"
   ]
  },
  {
   "cell_type": "code",
   "execution_count": 333,
   "metadata": {
    "scrolled": true
   },
   "outputs": [],
   "source": [
    "mdl = CpoModel(name='couples stables')\n",
    "n=4\n",
    "\n",
    "#Variables\n",
    "couples = [mdl.binary_var_list(n, f\"c{i}\") for i in range(n)]\n",
    "h_index = mdl.integer_var_list(n, 0, n-1, name='ih') \n",
    "f_index = mdl.integer_var_list(n, 0, n-1, name='if')\n",
    "\n",
    "\n",
    "for i in range(n):\n",
    "    #indice de fi dans Lh\n",
    "    mdl.add(f_index[i] == mdl.sum([couples[i][j] * (Lh[i].index(j)) for j in range(n)]))\n",
    "    #indice de hi dans Lf\n",
    "    mdl.add(h_index[i] == mdl.sum([couples[j][i] * (Lf[i].index(j)) for j in range(n)]))\n",
    "        \n",
    "#Chaque agent ne peut être que dans un seul couple\n",
    "for i in range(n):\n",
    "    mdl.add(mdl.sum([couples[i][j] for j in range(n)]) == 1)\n",
    "    mdl.add(mdl.sum([couples[j][i] for j in range(n)]) == 1)\n",
    "\n",
    "# Blocking couple\n",
    "for i in range(n):\n",
    "    for j in range(n):\n",
    "        mdl.add(mdl.if_then(Lh[i].index(j) < f_index[i], Lf[j].index(i)>=h_index[i]))\n",
    "\n",
    "#print(mdl.get_cpo_string())"
   ]
  },
  {
   "cell_type": "code",
   "execution_count": 341,
   "metadata": {},
   "outputs": [],
   "source": [
    "sol = mdl.solve(trace_log=False)"
   ]
  },
  {
   "cell_type": "code",
   "execution_count": 347,
   "metadata": {},
   "outputs": [
    {
     "name": "stdout",
     "output_type": "stream",
     "text": [
      "L'ensemble M={(h_0,f_3),(h_1,f_0),(h_2,f_1),(h_3,f_2)} est un mariage stable.\n"
     ]
    }
   ],
   "source": [
    "#sol.print_solution()\n",
    "print_sol(sol,n)"
   ]
  },
  {
   "cell_type": "markdown",
   "metadata": {},
   "source": [
    "## Seconde partie"
   ]
  },
  {
   "cell_type": "code",
   "execution_count": null,
   "metadata": {},
   "outputs": [],
   "source": []
  }
 ],
 "metadata": {
  "kernelspec": {
   "display_name": "Python 3 (ipykernel)",
   "language": "python",
   "name": "python3"
  },
  "language_info": {
   "codemirror_mode": {
    "name": "ipython",
    "version": 3
   },
   "file_extension": ".py",
   "mimetype": "text/x-python",
   "name": "python",
   "nbconvert_exporter": "python",
   "pygments_lexer": "ipython3",
   "version": "3.9.7"
  }
 },
 "nbformat": 4,
 "nbformat_minor": 2
}
