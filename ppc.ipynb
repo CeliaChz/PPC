{
 "cells": [
  {
   "cell_type": "markdown",
   "metadata": {},
   "source": [
    "# Programmation par contrainte: évaluation pratique\n",
    "## 5-SDBD + mastère VALDOM, INSA Toulouse, janvier 2023"
   ]
  },
  {
   "cell_type": "markdown",
   "metadata": {},
   "source": [
    "## Première partie"
   ]
  },
  {
   "cell_type": "markdown",
   "metadata": {},
   "source": [
    "On utilise tout au long de ce sujet deux ensembles d’agents H = {h1, . . . hn} et F = {f1, . . . fn}. Chaque agent\n",
    "hi ∈ H exprime ses préférences de couplage avec un agent de F à travers une liste L(hi) contenant les éléments de F\n",
    "sans duplication. Pour tout k ∈ [1, n − 1], hi préfère être couplé avec le kème agent dans L(hi) que le k + 1ème agent.\n",
    "De la même façon, chaque agent fj ∈ F exprime ses préférences de couplage avec un agent de H à travers une liste\n",
    "L(fj ).\n",
    "\n",
    "Un tuple (h, f ) est appelé un couple si h ∈ H et f ∈ F . Soit M un ensemble de couples. Un agent a préfère un\n",
    "agent b à sa situation dans M si a n’appartient à aucun couple dans M ou si a préfère b à son partenaire dans M . Un\n",
    "couple (h, f ) ∈ M bloque M si h préfère f à sa situation dans M et f préfère h à sa situation dans M .\n",
    "Un mariage stable est un ensemble de couples M tel que chaque agent est couplé avec un seul agent et M n’admet\n",
    "aucun couple bloquant. On note qu’une instance de ce problème peut admettre plusieurs solutions."
   ]
  },
  {
   "cell_type": "code",
   "execution_count": 213,
   "metadata": {},
   "outputs": [],
   "source": [
    "from config import setup\n",
    "setup()\n",
    "\n",
    "from docplex.cp.model import *\n",
    "from docplex.cp.config import get_default\n",
    "\n",
    "import numpy as np\n",
    "%matplotlib inline"
   ]
  },
  {
   "cell_type": "markdown",
   "metadata": {},
   "source": [
    "1. Proposez un modèle de programmation par contrainte pour trouver un mariage stable. Le modèle peut inclure\n",
    "des contraintes logiques (par exemple if_then). L’utilisation de ce genre de contraintes est accessible dans la\n",
    "documentation du solveur. Utilisez la recherche en profondeur par défaut ((’DepthFirst’) sans préciser des\n",
    "heuristiques de branchements. N’affichez pas les traces d’exécutions internes du solveur."
   ]
  },
  {
   "cell_type": "code",
   "execution_count": 214,
   "metadata": {},
   "outputs": [],
   "source": [
    "from random import shuffle\n",
    "\n",
    "def generate_SM(n):\n",
    "    \n",
    "    Lh = []\n",
    "    Lf = []\n",
    "    for i in range(n):\n",
    "        h = list(set(list(range(n))))\n",
    "        f = list(set(list(range(n))))\n",
    "        shuffle(h)\n",
    "        Lh.append(h)\n",
    "        shuffle(f)\n",
    "        Lf.append(f)\n",
    "        \n",
    "    return Lh, Lf"
   ]
  },
  {
   "cell_type": "code",
   "execution_count": 181,
   "metadata": {},
   "outputs": [],
   "source": [
    "Lf, Lh = generate_SM(4)"
   ]
  },
  {
   "cell_type": "code",
   "execution_count": 215,
   "metadata": {},
   "outputs": [
    {
     "name": "stdout",
     "output_type": "stream",
     "text": [
      "[[1, 2, 0, 3], [3, 0, 2, 1], [1, 3, 0, 2], [2, 0, 3, 1]] \n",
      "\n",
      " [[1, 0, 2, 3], [2, 3, 0, 1], [0, 2, 3, 1], [1, 0, 2, 3]]\n"
     ]
    }
   ],
   "source": [
    "#Données du problème\n",
    "\n",
    "#Nombre d'agents dans chaque groupe\n",
    "n = 4\n",
    "\n",
    "#Matrice de préférences de H (liste de listes)\n",
    "#La préférence est décroissante : plus un agent a un indice bas, plus la préférence est élevée\n",
    "Lh_old = [[2,3,1,4], \n",
    "      [4,1,3,2],\n",
    "      [2,4,1,3],\n",
    "      [3,1,4,2]]\n",
    "one = np.ones((4,4), dtype = int)\n",
    "Lh = (Lh_old - one).tolist()\n",
    "\n",
    "#Matrice de préférences de F\n",
    "Lf_old = [[2,1,3,4],\n",
    "      [3,4,1,2],\n",
    "      [1,3,4,2],\n",
    "      [2,1,3,4]]\n",
    "Lf = (Lf_old - one).tolist()\n",
    "\n",
    "print(Lh, \"\\n\\n\", Lf)"
   ]
  },
  {
   "cell_type": "code",
   "execution_count": 223,
   "metadata": {
    "scrolled": true
   },
   "outputs": [],
   "source": [
    "mdl = CpoModel(name='couples stables')\n",
    "\n",
    "#Variables\n",
    "#Représentation des couples : l'agent h_i est en couple avec l'agent f_couple[i]\n",
    "#Exemple : si couple = [1, 3, 4, 2] alors l'agent h2 est en couple avec f4 \n",
    "couples = mdl.integer_var_list(n,0,n-1,'c')\n",
    "h_index = [mdl.integer_var_list(n, 0, n-1, name=f'ih_{i}') for i in range(n)]\n",
    "f_index = [mdl.integer_var_list(n, 0, n-1, name=f'if_{i}') for i in range(n)]\n",
    "\n",
    "\n",
    "#Contraintes\n",
    "\n",
    "for i in range(n):\n",
    "    for j in range(n):\n",
    "        #L'index de hi selon les préférences de fj\n",
    "        mdl.add(h_index[i][j] == Lf[j].index(i))\n",
    "        #L'index de fi selon les préférences de hj\n",
    "        mdl.add(f_index[i][j] == Lh[j].index(i))\n",
    "\n",
    "#Chaque agent ne peut être que dans un seul couple\n",
    "mdl.add(mdl.all_diff(couples))\n",
    "\n",
    "#Quand on a le choix entre prendre Lh[agent][i] et Lh[agent][j] où i<j, on prend Lh[agent][i]\n",
    "#for i in range(n):\n",
    "#    for j in range(n):\n",
    "#        mdl.add(mdl.if_then(couples[i] == j, Lh[i][j] <= min([Lh[i][k] for k in range(n) if k != j])))\n",
    "\n",
    "#Non bloquant \n",
    "#(où bloquant : f préfère h et h préfère f, où f et h sont dans 2 couples différents)\n",
    "for i in range(n):\n",
    "    for j in range(n):\n",
    "        h_index_i_j = h_index[i][j]\n",
    "        f_index_j_i = f_index[j][i]\n",
    "        h_index_i_c = mdl.element(h_index[i], couples[i])\n",
    "        f_index_j_c = mdl.element(f_index[j], couples[j])\n",
    "        #si hi préfère fj à sa situation actuelle (f_ci), alors il faut que fj préfère sa situation actuelle à hi\n",
    "        mdl.add(mdl.if_then(mdl.less_or_equal(f_index_i_j,h_index_i_c), greater_or_equal(f_index_j_i,f_index_j_c)))\n",
    "\n",
    "\n",
    "#print(mdl.get_cpo_string())"
   ]
  },
  {
   "cell_type": "code",
   "execution_count": 224,
   "metadata": {},
   "outputs": [
    {
     "name": "stdout",
     "output_type": "stream",
     "text": [
      " ! --------------------------------------------------- CP Optimizer 22.1.0.0 --\n",
      " ! Satisfiability problem - 37 variables, 49 constraints\n",
      " ! Presolve             = Off\n",
      " ! Workers              = 1\n",
      " ! SearchType           = DepthFirst\n",
      " ! Initial process time : 0.01s (0.01s extraction + 0.00s propagation)\n",
      " !  . Log search space  : 74.0 (before), 74.0 (after)\n",
      " !  . Memory usage      : 300.9 kB (before), 300.9 kB (after)\n",
      " ! Using sequential search.\n",
      " ! ----------------------------------------------------------------------------\n",
      " !               Branches  Non-fixed            Branch decision\n",
      " *                      4  0.01s                  2  = if_0_0@1\n",
      " ! ----------------------------------------------------------------------------\n",
      " ! Search completed, 1 solution found.\n",
      " ! ----------------------------------------------------------------------------\n",
      " ! Number of branches     : 4\n",
      " ! Number of fails        : 0\n",
      " ! Total memory usage     : 641.4 kB (599.1 kB CP Optimizer + 42.4 kB Concert)\n",
      " ! Time spent in solve    : 0.01s (0.00s engine + 0.01s extraction)\n",
      " ! Search speed (br. / s) : 400.0\n",
      " ! ----------------------------------------------------------------------------\n"
     ]
    }
   ],
   "source": [
    "sol = mdl.solve(trace_log=True)"
   ]
  },
  {
   "cell_type": "code",
   "execution_count": 225,
   "metadata": {},
   "outputs": [],
   "source": [
    "def print_SM(sol):\n",
    "    res = \"L'ensemble M={\"\n",
    "    for i in range(len(couples)):\n",
    "        res = res + \"(h_\" + str(i) + \",f_\" + str(sol.get_value(couples[i])) + \"),\"\n",
    "    res = res[:-1] + \"}\" + \" est un mariage stable.\"\n",
    "\n",
    "    print(res)"
   ]
  },
  {
   "cell_type": "code",
   "execution_count": 226,
   "metadata": {},
   "outputs": [
    {
     "name": "stdout",
     "output_type": "stream",
     "text": [
      "L'ensemble M={(h_0,f_3),(h_1,f_0),(h_2,f_2),(h_3,f_1)} est un mariage stable.\n"
     ]
    }
   ],
   "source": [
    "print_SM(sol)"
   ]
  }
 ],
 "metadata": {
  "kernelspec": {
   "display_name": "Python 3 (ipykernel)",
   "language": "python",
   "name": "python3"
  },
  "language_info": {
   "codemirror_mode": {
    "name": "ipython",
    "version": 3
   },
   "file_extension": ".py",
   "mimetype": "text/x-python",
   "name": "python",
   "nbconvert_exporter": "python",
   "pygments_lexer": "ipython3",
   "version": "3.9.7"
  }
 },
 "nbformat": 4,
 "nbformat_minor": 2
}
