{
 "cells": [
  {
   "cell_type": "markdown",
   "metadata": {},
   "source": [
    "# Tutorial 4: Scheduling with CP: Some Basics "
   ]
  },
  {
   "cell_type": "markdown",
   "metadata": {},
   "source": [
    "Today we discover a new family of problems, called scheduling. Scheduling problems are widely present in real life applications such as timetabelling, transportation, project management, and manufacturing. We consider a particular problem called the job shop scheduling problem.  In this problem, we are given a set of $n$ jobs: $J_1, J_2, \\ldots,  J_n$ and a set of $m$ machines $M_1, M_2, \\ldots,  M_m$. \n",
    "Each job $J_i$ is defined by a set of $m$ (non-preemptive) tasks $T_{i,1} \\ldots T_{i,m}$. Every task $T_{i,k}$ is associated with a duration $p_{i,k}$ and is supposed to be scheduled on machine $M_k$. \n",
    "\n",
    "The problem has two sets of constraints: \n",
    "\n",
    " - Precedence constraints: Each job is associated with an order of tasks to respect when scheduling the different tasks.\n",
    " - Disjunctive constraints: Each machine can process only one task at a given time\n",
    "\n",
    "\n",
    "The standard optimisation version of this problem asks to minimize the makespan, i.e., the total scheduling time.\n"
   ]
  },
  {
   "cell_type": "markdown",
   "metadata": {},
   "source": [
    "Constraint programming has been widely and successfully used to solve scheduling problems. Many global constraints have been proposed. CP solvers often offer a dedicated library for scheduling. \n",
    "Please have a look at the diffrent features proposed in docplex here http://ibmdecisionoptimization.github.io/docplex-doc/cp/docplex.cp.modeler.py.html?highlight=scheduling#scheduling-functions \n"
   ]
  },
  {
   "cell_type": "markdown",
   "metadata": {},
   "source": [
    "In this tutorial, we will be using (only): \n",
    " - Interval variables for the different variables of the problem:  http://ibmdecisionoptimization.github.io/docplex-doc/cp/docplex.cp.expression.py.html?highlight=interval_var#docplex.cp.expression.interval_var\n",
    " \n",
    " - end_before_start constraints to model precedence constraints : http://ibmdecisionoptimization.github.io/docplex-doc/cp/docplex.cp.modeler.py.html?highlight=end_before_start#docplex.cp.modeler.end_before_start\n",
    "\n",
    "- no_overlap global constraint : http://ibmdecisionoptimization.github.io/docplex-doc/cp/docplex.cp.modeler.py.html?highlight=no_overlap#docplex.cp.modeler.no_overlap\n"
   ]
  },
  {
   "cell_type": "markdown",
   "metadata": {},
   "source": [
    "The format for a job shop scheduling instance respects the following syntax: \n",
    " - The first line containts only $n$ $m$ in this order  ($n$ is the number of jobs and $m$ is the number of machines)\n",
    " - Then $n$ lines are given. Each line $i$ is associated to the job $J_i$ and contains exactly $2 m$ integers $x^i_1$ $d^i_1$ $x^i_2$ $d^i_2$ $\\ldots$ $x^i_n$ $d^i_n$. Each $x^i_k$ is the $k^{th}$ machine required by the $k^{th}$ task of the job $J_i$, and $d^i_k$ represents its duration. "
   ]
  },
  {
   "cell_type": "markdown",
   "metadata": {},
   "source": [
    "Consider for example the data file instance.data : \n",
    "    \n",
    " 6  6\n",
    "     \n",
    "2   1  0   3  1   6  3   7  5   3  4   6\n",
    "\n",
    "1   8  2   5  4  10  5  10  0  10  3   4\n",
    "\n",
    "2   5  3   4  5   8  0   9  1   1  4   7\n",
    " \n",
    " 1   5  0   5  2   5  3   3  4   8  5   9\n",
    " \n",
    " 2   9  1   3  4   5  5   4  0   3  3   1\n",
    " \n",
    " 1   3  3   3  5   9  0  10  4   4  2   1\n"
   ]
  },
  {
   "cell_type": "markdown",
   "metadata": {},
   "source": [
    "This instance has $6$ jobs and $6$ machines. The first job requires the execution of task $T_{1,2}$ (on machine $2$) of duration $1$, \n",
    "then $T_{1,0}$ (on machine $0$) of duration $3$, etc. "
   ]
  },
  {
   "cell_type": "markdown",
   "metadata": {},
   "source": [
    "Write a simple python code to parse the data file instance.data"
   ]
  },
  {
   "cell_type": "code",
   "execution_count": 1,
   "metadata": {},
   "outputs": [],
   "source": [
    "from config import setup\n",
    "setup()\n",
    "\n",
    "## install docplex first with $pip install docplex\n",
    "from docplex.cp.model import *\n",
    "from docplex.cp.config import get_default\n",
    "import display\n",
    "%matplotlib inline"
   ]
  },
  {
   "cell_type": "code",
   "execution_count": 2,
   "metadata": {},
   "outputs": [],
   "source": [
    "def parse(file):\n",
    "    with open(file, 'r') as f:\n",
    "        n, m = [int(x) for x in f.readline().split()]\n",
    "        jobs=[]\n",
    "        for line in f:\n",
    "            job = [int(x) for x in line.split()]\n",
    "            job = [job[i:i+2] for i in range(0, len(job), 2)]\n",
    "            jobs.append(job)\n",
    "        return(n,m,jobs)"
   ]
  },
  {
   "cell_type": "code",
   "execution_count": 3,
   "metadata": {},
   "outputs": [
    {
     "name": "stdout",
     "output_type": "stream",
     "text": [
      "6 6\n",
      "[[[2, 1], [0, 3], [1, 6], [3, 7], [5, 3], [4, 6]], [[1, 8], [2, 5], [4, 10], [5, 10], [0, 10], [3, 4]], [[2, 5], [3, 4], [5, 8], [0, 9], [1, 1], [4, 7]], [[1, 5], [0, 5], [2, 5], [3, 3], [4, 8], [5, 9]], [[2, 9], [1, 3], [4, 5], [5, 4], [0, 3], [3, 1]], [[1, 3], [3, 3], [5, 9], [0, 10], [4, 4], [2, 1]]]\n"
     ]
    }
   ],
   "source": [
    "n,m,jobs = parse('example.data')\n",
    "print(n,m)\n",
    "print(jobs)"
   ]
  },
  {
   "cell_type": "markdown",
   "metadata": {},
   "source": [
    "Create a matrix machine that satisfies: machine[i][k] is the machine of the $k^{th}$ task of job $i$ (one line)"
   ]
  },
  {
   "cell_type": "code",
   "execution_count": 4,
   "metadata": {},
   "outputs": [
    {
     "name": "stdout",
     "output_type": "stream",
     "text": [
      "[[2, 0, 1, 3, 5, 4], [1, 2, 4, 5, 0, 3], [2, 3, 5, 0, 1, 4], [1, 0, 2, 3, 4, 5], [2, 1, 4, 5, 0, 3], [1, 3, 5, 0, 4, 2]]\n"
     ]
    }
   ],
   "source": [
    "machine=[[job[k][0] for k in range(len(job))] for job in jobs]\n",
    "\n",
    "print(machine)"
   ]
  },
  {
   "cell_type": "markdown",
   "metadata": {},
   "source": [
    "Create a matrix duration that satisfies: duration[i][k] is the duration of the $k^{th}$ task of job $i$ (one line)"
   ]
  },
  {
   "cell_type": "code",
   "execution_count": 5,
   "metadata": {},
   "outputs": [
    {
     "name": "stdout",
     "output_type": "stream",
     "text": [
      "[[1, 3, 6, 7, 3, 6], [8, 5, 10, 10, 10, 4], [5, 4, 8, 9, 1, 7], [5, 5, 5, 3, 8, 9], [9, 3, 5, 4, 3, 1], [3, 3, 9, 10, 4, 1]]\n"
     ]
    }
   ],
   "source": [
    "duration=[[job[k][1] for k in range(len(job))] for job in jobs]\n",
    "\n",
    "print(duration)"
   ]
  },
  {
   "cell_type": "markdown",
   "metadata": {},
   "source": [
    "Compute a naive upper bound for the makespan. Note: this upper bound will be used as an upper bound for every interval variable we create."
   ]
  },
  {
   "cell_type": "code",
   "execution_count": 6,
   "metadata": {},
   "outputs": [
    {
     "name": "stdout",
     "output_type": "stream",
     "text": [
      "197\n"
     ]
    }
   ],
   "source": [
    "upper_bound = sum(di for d in duration for di in d)\n",
    "\n",
    "print(upper_bound)"
   ]
  },
  {
   "cell_type": "markdown",
   "metadata": {},
   "source": [
    "Create a CpoModel() and the different interval variables you need to solve this problem (don't forget to use the upper bound you computed earlier)"
   ]
  },
  {
   "cell_type": "code",
   "execution_count": 52,
   "metadata": {},
   "outputs": [],
   "source": [
    "mdl = CpoModel(name='model')\n",
    "\n",
    "#durées, on a n*m durées (autant que de tasks), chacune comprise entre 0 et upper_bound\n",
    "vard=[]\n",
    "for line in duration:\n",
    "    vard.append([])\n",
    "    for d in line:\n",
    "        vard[-1].append(mdl.interval_var(start=(0, upper_bound), end=(0, upper_bound), length=d, name='d'))"
   ]
  },
  {
   "cell_type": "markdown",
   "metadata": {},
   "source": [
    "Post the precedence constraints using the end_before_start constraints "
   ]
  },
  {
   "cell_type": "code",
   "execution_count": 53,
   "metadata": {},
   "outputs": [],
   "source": [
    "#Precedence constraints: each job is associated with an order of tasks to respect when scheduling the different tasks\n",
    "for j in range(n):\n",
    "    lk = len(jobs[j])\n",
    "    for k in range(lk-1):\n",
    "        mdl.add(end_before_start(vard[j][k],vard[j][k+1]))"
   ]
  },
  {
   "cell_type": "markdown",
   "metadata": {},
   "source": [
    "Post the disjunctive constraints using the no-overlap constraints "
   ]
  },
  {
   "cell_type": "code",
   "execution_count": 54,
   "metadata": {},
   "outputs": [],
   "source": [
    "#Disjunctive constraints: each machine can process only one task at a given time\n",
    "for k in range(len(jobs)):\n",
    "    interv_m = []\n",
    "    for j in range(len(jobs[k])):\n",
    "        interv_m.append(vard[j][k])\n",
    "    mdl.add(no_overlap(interv_m))"
   ]
  },
  {
   "cell_type": "markdown",
   "metadata": {},
   "source": [
    "Create a makespan interval variable and link it to some variables using the max global constraint\n",
    "http://ibmdecisionoptimization.github.io/docplex-doc/cp/docplex.cp.modeler.py.html?highlight=max#docplex.cp.modeler.max"
   ]
  },
  {
   "cell_type": "code",
   "execution_count": 71,
   "metadata": {},
   "outputs": [],
   "source": [
    "#on représente le makespan comme une task de durée nulle qu'on va placer à la fin de la dernière task\n",
    "\n",
    "mymax = mdl.max([mdl.end_of(vard[j][-1]) for j in range(len(jobs))])\n",
    "makespan = mdl.interval_var(start=(0,upper_bound), end=(0,upper_bound), length=0, name='makespan')\n",
    "mdl.add(mdl.start_of(makespan) == mymax)"
   ]
  },
  {
   "cell_type": "markdown",
   "metadata": {},
   "source": [
    "Add now the makespan as an objective function "
   ]
  },
  {
   "cell_type": "code",
   "execution_count": 73,
   "metadata": {},
   "outputs": [
    {
     "data": {
      "text/plain": [
       "<docplex.cp.expression.CpoFunctionCall at 0x7f5f94ef59b0>"
      ]
     },
     "execution_count": 73,
     "metadata": {},
     "output_type": "execute_result"
    }
   ],
   "source": [
    "mdl.minimize(mdl.end_of(makespan))"
   ]
  },
  {
   "cell_type": "markdown",
   "metadata": {},
   "source": [
    "Solve this instance. What is the value of the makespan you found. You can print the solution in a format that is easy \n",
    "to see visually.  "
   ]
  },
  {
   "cell_type": "code",
   "execution_count": 74,
   "metadata": {},
   "outputs": [
    {
     "name": "stdout",
     "output_type": "stream",
     "text": [
      " ! ----------------------------------------------------------------------------\n",
      " ! Minimization problem - 44 variables, 38 constraints\n",
      " ! Workers              = 1\n",
      " ! Presolve             = Off\n",
      " ! SearchType           = DepthFirst\n",
      " ! Initial process time : 0.04s (0.03s extraction + 0.00s propagation)\n",
      " !  . Log search space  : 199.4 (before), 199.4 (after)\n",
      " !  . Memory usage      : 372.8 kB (before), 372.8 kB (after)\n",
      " ! Using sequential search.\n",
      " ! ----------------------------------------------------------------------------\n",
      " !          Best Branches  Non-fixed            Branch decision\n",
      "                        0         44                 -\n",
      " + New bound is 0\n",
      " *            75       36  0.05s               (gap is 100.0%)\n",
      " *            71       66  0.05s               (gap is 100.0%)\n",
      " *            70      132  0.05s               (gap is 100.0%)\n",
      " *            69      192  0.05s               (gap is 100.0%)\n",
      " *            68      259  0.05s               (gap is 100.0%)\n",
      " *            67      297  0.05s               (gap is 100.0%)\n",
      " *            66      356  0.05s               (gap is 100.0%)\n",
      " *            65      599  0.06s               (gap is 100.0%)\n",
      " *            62      704  0.06s               (gap is 100.0%)\n",
      " ! ----------------------------------------------------------------------------\n",
      " ! Search completed, 9 solutions found.\n",
      " ! Best objective         : 62 (optimal - effective tol. is 0)\n",
      " ! Best bound             : 0\n",
      " ! ----------------------------------------------------------------------------\n",
      " ! Number of branches     : 772\n",
      " ! Number of fails        : 379\n",
      " ! Total memory usage     : 861.8 kB (806.4 kB CP Optimizer + 55.4 kB Concert)\n",
      " ! Time spent in solve    : 0.06s (0.02s engine + 0.03s extraction)\n",
      " ! Search speed (br. / s) : 25733.3\n",
      " ! ----------------------------------------------------------------------------\n"
     ]
    },
    {
     "data": {
      "text/plain": [
       "<docplex.cp.solution.CpoSolveResult at 0x7f5f94eab830>"
      ]
     },
     "execution_count": 74,
     "metadata": {},
     "output_type": "execute_result"
    }
   ],
   "source": [
    "mdl.solve() #!!!!PB on doit trouver 55"
   ]
  },
  {
   "cell_type": "code",
   "execution_count": null,
   "metadata": {},
   "outputs": [],
   "source": []
  },
  {
   "cell_type": "markdown",
   "metadata": {},
   "source": [
    "Factorise your code so that it takes as input the data file and it solves the problem. Try to use few other instances https://github.com/tamy0612/JSPLIB/tree/master/instances\n",
    "    \n",
    "    \n"
   ]
  },
  {
   "cell_type": "code",
   "execution_count": null,
   "metadata": {},
   "outputs": [],
   "source": []
  },
  {
   "cell_type": "code",
   "execution_count": null,
   "metadata": {},
   "outputs": [],
   "source": []
  },
  {
   "cell_type": "markdown",
   "metadata": {},
   "source": [
    "At this stage you are completly free to play. Try different instances, different configurations of the solver, different branching strategies, restarts, randomisation, etc. \n",
    "\n",
    "You may want to present your results as a cactus 🌵 plot : in the x-axis we have the runtime, on the y-axis, we have the number of instances solved. Also, some instances are still open in the literature. Have a look here for an up to date list of bounds http://optimizizer.com/TA.php"
   ]
  },
  {
   "cell_type": "code",
   "execution_count": null,
   "metadata": {},
   "outputs": [],
   "source": []
  },
  {
   "cell_type": "markdown",
   "metadata": {},
   "source": [
    "What did you learn loday? "
   ]
  },
  {
   "cell_type": "raw",
   "metadata": {},
   "source": [
    "We learnt how to resolve scheduling problem with CSP, by considering the two following global constraints : the end_before_start and no_overlap. "
   ]
  }
 ],
 "metadata": {
  "kernelspec": {
   "display_name": "Python 3 (ipykernel)",
   "language": "python",
   "name": "python3"
  },
  "language_info": {
   "codemirror_mode": {
    "name": "ipython",
    "version": 3
   },
   "file_extension": ".py",
   "mimetype": "text/x-python",
   "name": "python",
   "nbconvert_exporter": "python",
   "pygments_lexer": "ipython3",
   "version": "3.9.7"
  },
  "latex_envs": {
   "LaTeX_envs_menu_present": true,
   "autoclose": false,
   "autocomplete": true,
   "bibliofile": "biblio.bib",
   "cite_by": "apalike",
   "current_citInitial": 1,
   "eqLabelWithNumbers": true,
   "eqNumInitial": 1,
   "hotkeys": {
    "equation": "Ctrl-E",
    "itemize": "Ctrl-I"
   },
   "labels_anchors": false,
   "latex_user_defs": false,
   "report_style_numbering": false,
   "user_envs_cfg": false
  }
 },
 "nbformat": 4,
 "nbformat_minor": 2
}
