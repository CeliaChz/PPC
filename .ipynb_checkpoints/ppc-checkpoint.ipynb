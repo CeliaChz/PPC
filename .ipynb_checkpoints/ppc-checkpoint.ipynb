{
 "cells": [
  {
   "cell_type": "markdown",
   "metadata": {},
   "source": [
    "# Programmation par contrainte: évaluation pratique\n",
    "## 5-SDBD + mastère VALDOM, INSA Toulouse, janvier 2023"
   ]
  },
  {
   "cell_type": "markdown",
   "metadata": {},
   "source": [
    "## Première partie"
   ]
  },
  {
   "cell_type": "markdown",
   "metadata": {},
   "source": [
    "On utilise tout au long de ce sujet deux ensembles d’agents H = {h1, . . . hn} et F = {f1, . . . fn}. Chaque agent\n",
    "hi ∈ H exprime ses préférences de couplage avec un agent de F à travers une liste L(hi) contenant les éléments de F\n",
    "sans duplication. Pour tout k ∈ [1, n − 1], hi préfère être couplé avec le kème agent dans L(hi) que le k + 1ème agent.\n",
    "De la même façon, chaque agent fj ∈ F exprime ses préférences de couplage avec un agent de H à travers une liste\n",
    "L(fj ).\n",
    "\n",
    "Un tuple (h, f ) est appelé un couple si h ∈ H et f ∈ F . Soit M un ensemble de couples. Un agent a préfère un\n",
    "agent b à sa situation dans M si a n’appartient à aucun couple dans M ou si a préfère b à son partenaire dans M . Un\n",
    "couple (h, f ) ∈ M bloque M si h préfère f à sa situation dans M et f préfère h à sa situation dans M .\n",
    "Un mariage stable est un ensemble de couples M tel que chaque agent est couplé avec un seul agent et M n’admet\n",
    "aucun couple bloquant. On note qu’une instance de ce problème peut admettre plusieurs solutions."
   ]
  },
  {
   "cell_type": "code",
   "execution_count": 1,
   "metadata": {},
   "outputs": [],
   "source": [
    "from docplex.cp.model import *\n",
    "from docplex.cp.config import get_default\n",
    "import numpy as np\n",
    "%matplotlib inline"
   ]
  },
  {
   "cell_type": "markdown",
   "metadata": {},
   "source": [
    "1. Proposez un modèle de programmation par contrainte pour trouver un mariage stable. Le modèle peut inclure\n",
    "des contraintes logiques (par exemple if_then). L’utilisation de ce genre de contraintes est accessible dans la\n",
    "documentation du solveur. Utilisez la recherche en profondeur par défaut ((’DepthFirst’) sans préciser des\n",
    "heuristiques de branchements. N’affichez pas les traces d’exécutions internes du solveur."
   ]
  },
  {
   "cell_type": "code",
   "execution_count": 7,
   "metadata": {},
   "outputs": [
    {
     "name": "stdout",
     "output_type": "stream",
     "text": [
      "[[1 2 0 3]\n",
      " [3 0 2 1]\n",
      " [1 3 0 2]\n",
      " [2 0 3 1]] \n",
      "\n",
      " [[1 0 2 3]\n",
      " [2 3 0 1]\n",
      " [0 2 3 1]\n",
      " [1 0 2 3]]\n"
     ]
    }
   ],
   "source": [
    "#Données du problème\n",
    "\n",
    "#Nombre d'agents dans chaque groupe\n",
    "n = 4\n",
    "\n",
    "#Matrice de préférences de H (liste de listes)\n",
    "#La préférence est décroissante : plus un agent a un indice bas, plus la préférence est élevée\n",
    "Lh_old = [[2,3,1,4], \n",
    "      [4,1,3,2],\n",
    "      [2,4,1,3],\n",
    "      [3,1,4,2]]\n",
    "one = np.ones((4,4), dtype = int)\n",
    "Lh = Lh_old - one\n",
    "\n",
    "#Matrice de préférences de F\n",
    "Lf_old = [[2,1,3,4],\n",
    "      [3,4,1,2],\n",
    "      [1,3,4,2],\n",
    "      [2,1,3,4]]\n",
    "Lf = Lf_old - one\n",
    "\n",
    "print(Lh, \"\\n\\n\", Lf)"
   ]
  },
  {
   "cell_type": "code",
   "execution_count": 34,
   "metadata": {},
   "outputs": [
    {
     "ename": "IndexError",
     "evalue": "only integers, slices (`:`), ellipsis (`...`), numpy.newaxis (`None`) and integer or boolean arrays are valid indices",
     "output_type": "error",
     "traceback": [
      "\u001b[1;31m---------------------------------------------------------------------------\u001b[0m",
      "\u001b[1;31mIndexError\u001b[0m                                Traceback (most recent call last)",
      "\u001b[1;32m<ipython-input-34-fcfc5e1288b2>\u001b[0m in \u001b[0;36m<module>\u001b[1;34m\u001b[0m\n\u001b[0;32m     23\u001b[0m \u001b[1;32mfor\u001b[0m \u001b[0mi\u001b[0m \u001b[1;32min\u001b[0m \u001b[0mrange\u001b[0m\u001b[1;33m(\u001b[0m\u001b[0mn\u001b[0m\u001b[1;33m)\u001b[0m\u001b[1;33m:\u001b[0m\u001b[1;33m\u001b[0m\u001b[1;33m\u001b[0m\u001b[0m\n\u001b[0;32m     24\u001b[0m     \u001b[1;32mfor\u001b[0m \u001b[0mj\u001b[0m \u001b[1;32min\u001b[0m \u001b[0mrange\u001b[0m\u001b[1;33m(\u001b[0m\u001b[0mn\u001b[0m\u001b[1;33m)\u001b[0m\u001b[1;33m:\u001b[0m\u001b[1;33m\u001b[0m\u001b[1;33m\u001b[0m\u001b[0m\n\u001b[1;32m---> 25\u001b[1;33m         \u001b[0mmdl\u001b[0m\u001b[1;33m.\u001b[0m\u001b[0madd\u001b[0m\u001b[1;33m(\u001b[0m\u001b[0mmdl\u001b[0m\u001b[1;33m.\u001b[0m\u001b[0mif_then\u001b[0m\u001b[1;33m(\u001b[0m\u001b[0mcouple\u001b[0m\u001b[1;33m[\u001b[0m\u001b[0mi\u001b[0m\u001b[1;33m]\u001b[0m \u001b[1;33m==\u001b[0m \u001b[0mj\u001b[0m\u001b[1;33m,\u001b[0m \u001b[0mLh\u001b[0m\u001b[1;33m[\u001b[0m\u001b[0mi\u001b[0m\u001b[1;33m]\u001b[0m\u001b[1;33m[\u001b[0m\u001b[0mj\u001b[0m\u001b[1;33m]\u001b[0m \u001b[1;33m<=\u001b[0m \u001b[0mLh\u001b[0m\u001b[1;33m[\u001b[0m\u001b[0mi\u001b[0m\u001b[1;33m]\u001b[0m\u001b[1;33m[\u001b[0m\u001b[0mcouple\u001b[0m\u001b[1;33m[\u001b[0m\u001b[0mj\u001b[0m\u001b[1;33m]\u001b[0m\u001b[1;33m]\u001b[0m\u001b[1;33m)\u001b[0m\u001b[1;33m)\u001b[0m\u001b[1;33m\u001b[0m\u001b[1;33m\u001b[0m\u001b[0m\n\u001b[0m\u001b[0;32m     26\u001b[0m         \u001b[0mmdl\u001b[0m\u001b[1;33m.\u001b[0m\u001b[0madd\u001b[0m\u001b[1;33m(\u001b[0m\u001b[0mmdl\u001b[0m\u001b[1;33m.\u001b[0m\u001b[0mif_then\u001b[0m\u001b[1;33m(\u001b[0m\u001b[0mcouple\u001b[0m\u001b[1;33m[\u001b[0m\u001b[0mi\u001b[0m\u001b[1;33m]\u001b[0m \u001b[1;33m==\u001b[0m \u001b[0mj\u001b[0m\u001b[1;33m,\u001b[0m \u001b[0mLf\u001b[0m\u001b[1;33m[\u001b[0m\u001b[0mj\u001b[0m\u001b[1;33m]\u001b[0m\u001b[1;33m[\u001b[0m\u001b[0mi\u001b[0m\u001b[1;33m]\u001b[0m \u001b[1;33m<=\u001b[0m \u001b[0mLf\u001b[0m\u001b[1;33m[\u001b[0m\u001b[0mj\u001b[0m\u001b[1;33m]\u001b[0m\u001b[1;33m[\u001b[0m\u001b[0mcouple\u001b[0m\u001b[1;33m[\u001b[0m\u001b[0mj\u001b[0m\u001b[1;33m]\u001b[0m\u001b[1;33m]\u001b[0m\u001b[1;33m)\u001b[0m\u001b[1;33m)\u001b[0m\u001b[1;33m\u001b[0m\u001b[1;33m\u001b[0m\u001b[0m\n\u001b[0;32m     27\u001b[0m \u001b[1;33m\u001b[0m\u001b[0m\n",
      "\u001b[1;31mIndexError\u001b[0m: only integers, slices (`:`), ellipsis (`...`), numpy.newaxis (`None`) and integer or boolean arrays are valid indices"
     ]
    }
   ],
   "source": [
    "mdl = CpoModel(name='couples stables')\n",
    "\n",
    "#Variables\n",
    "#Représentation des couples : l'agent h_i est en couple avec l'agent f_couple[i]\n",
    "#Exemple : si couple = [1, 3, 4, 2] alors l'agent h2 est en couple avec f4 \n",
    "couple = mdl.integer_var_list(n,0,n-1,'c')\n",
    "\n",
    "#Contraintes\n",
    "#Chaque agent ne peut être que dans un seul couple\n",
    "for i in range(n):\n",
    "    mdl.add(couple[i] != couple[j] for j in range(i+1) if i != j)\n",
    "\n",
    "#Quand on a le choix entre prendre Lh[agent][i] et Lh[agent][j] où i<j, on prend Lh[agent][i]\n",
    "\"\"\"for i in range(n):\n",
    "    for j in range(n):\n",
    "        print(\"i=\", i, \"j=\", j)\n",
    "        print(mdl.get_all_variables())\n",
    "        mdl.add(mdl.if_then(couple[i] == j, Lh[i][j] <= Lh[i][couple[i]]))\n",
    "        mdl.add(mdl.if_then(couple[i] == j, Lf[j][i] <= Lf[j][couple[j]]))\"\"\"\n",
    "    \n",
    "#Non bloquant \n",
    "#(où bloquant = f préfère h et h préfère f, où f et h sont dans 2 couples différents)\n",
    "for i in range(n):\n",
    "    for j in range(n):\n",
    "        mdl.add(mdl.if_then(couple[i] == j, Lh[i][j] <= Lh[i][couple[j]]))\n",
    "        mdl.add(mdl.if_then(couple[i] == j, Lf[j][i] <= Lf[j][couple[j]]))\n",
    "        \n",
    "            \n",
    "\n",
    "#Objectif\n",
    "#Maximiser le nombre de couples stables\n"
   ]
  },
  {
   "cell_type": "code",
   "execution_count": null,
   "metadata": {},
   "outputs": [],
   "source": [
    "print(Lh, Lf)"
   ]
  }
 ],
 "metadata": {
  "kernelspec": {
   "display_name": "Python 3",
   "language": "python",
   "name": "python3"
  },
  "language_info": {
   "codemirror_mode": {
    "name": "ipython",
    "version": 3
   },
   "file_extension": ".py",
   "mimetype": "text/x-python",
   "name": "python",
   "nbconvert_exporter": "python",
   "pygments_lexer": "ipython3",
   "version": "3.7.4"
  }
 },
 "nbformat": 4,
 "nbformat_minor": 2
}
