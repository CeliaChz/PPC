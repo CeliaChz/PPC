{
 "cells": [
  {
   "cell_type": "markdown",
   "metadata": {},
   "source": [
    "# Programmation par contrainte: évaluation pratique\n",
    "## 5-SDBD + mastère VALDOM, INSA Toulouse, janvier 2023"
   ]
  },
  {
   "cell_type": "markdown",
   "metadata": {},
   "source": [
    "## Première partie"
   ]
  },
  {
   "cell_type": "markdown",
   "metadata": {},
   "source": [
    "On utilise tout au long de ce sujet deux ensembles d’agents H = {h1, . . . hn} et F = {f1, . . . fn}. Chaque agent\n",
    "hi ∈ H exprime ses préférences de couplage avec un agent de F à travers une liste L(hi) contenant les éléments de F\n",
    "sans duplication. Pour tout k ∈ [1, n − 1], hi préfère être couplé avec le kème agent dans L(hi) que le k + 1ème agent.\n",
    "De la même façon, chaque agent fj ∈ F exprime ses préférences de couplage avec un agent de H à travers une liste\n",
    "L(fj ).\n",
    "\n",
    "Un tuple (h, f ) est appelé un couple si h ∈ H et f ∈ F . Soit M un ensemble de couples. Un agent a préfère un\n",
    "agent b à sa situation dans M si a n’appartient à aucun couple dans M ou si a préfère b à son partenaire dans M . Un\n",
    "couple (h, f ) ∈ M bloque M si h préfère f à sa situation dans M et f préfère h à sa situation dans M .\n",
    "Un mariage stable est un ensemble de couples M tel que chaque agent est couplé avec un seul agent et M n’admet\n",
    "aucun couple bloquant. On note qu’une instance de ce problème peut admettre plusieurs solutions."
   ]
  },
  {
   "cell_type": "code",
   "execution_count": 2,
   "metadata": {},
   "outputs": [],
   "source": [
    "from config import setup\n",
    "setup()\n",
    "\n",
    "from docplex.cp.model import *\n",
    "from docplex.cp.config import get_default\n",
    "\n",
    "import numpy as np\n",
    "%matplotlib inline"
   ]
  },
  {
   "cell_type": "markdown",
   "metadata": {},
   "source": [
    "1. Proposez un modèle de programmation par contrainte pour trouver un mariage stable. Le modèle peut inclure\n",
    "des contraintes logiques (par exemple if_then). L’utilisation de ce genre de contraintes est accessible dans la\n",
    "documentation du solveur. Utilisez la recherche en profondeur par défaut ((’DepthFirst’) sans préciser des\n",
    "heuristiques de branchements. N’affichez pas les traces d’exécutions internes du solveur."
   ]
  },
  {
   "cell_type": "code",
   "execution_count": 23,
   "metadata": {},
   "outputs": [],
   "source": [
    "from random import shuffle\n",
    "\n",
    "def generate_prefs(n):\n",
    "    Lh = []\n",
    "    Lf = []\n",
    "    for i in range(n):\n",
    "        h = list(set(list(range(n))))\n",
    "        f = list(set(list(range(n))))\n",
    "        shuffle(h)\n",
    "        Lh.append(h)\n",
    "        shuffle(f)\n",
    "        Lf.append(f)\n",
    "        \n",
    "    return Lh, Lf"
   ]
  },
  {
   "cell_type": "code",
   "execution_count": 24,
   "metadata": {},
   "outputs": [
    {
     "data": {
      "text/plain": [
       "([[0, 1], [0, 1]], [[1, 0], [1, 0]])"
      ]
     },
     "execution_count": 24,
     "metadata": {},
     "output_type": "execute_result"
    }
   ],
   "source": [
    "generate_prefs(2)"
   ]
  },
  {
   "cell_type": "code",
   "execution_count": 4,
   "metadata": {},
   "outputs": [],
   "source": [
    "#Lf, Lh = generate_prefs(4)"
   ]
  },
  {
   "cell_type": "code",
   "execution_count": 5,
   "metadata": {},
   "outputs": [
    {
     "name": "stdout",
     "output_type": "stream",
     "text": [
      "[[1, 2, 0, 3], [3, 0, 2, 1], [1, 3, 0, 2], [2, 0, 3, 1]] \n",
      "\n",
      " [[1, 0, 2, 3], [2, 3, 0, 1], [0, 2, 3, 1], [1, 0, 2, 3]]\n"
     ]
    }
   ],
   "source": [
    "#Données du problème\n",
    "\n",
    "#Nombre d'agents dans chaque groupe\n",
    "n = 4\n",
    "\n",
    "#Matrice de préférences de H (liste de listes)\n",
    "#La préférence est décroissante : plus un agent a un indice bas, plus la préférence est élevée\n",
    "Lh_old = [[2,3,1,4], \n",
    "      [4,1,3,2],\n",
    "      [2,4,1,3],\n",
    "      [3,1,4,2]]\n",
    "one = np.ones((4,4), dtype = int)\n",
    "Lh = (Lh_old - one).tolist()\n",
    "\n",
    "#Matrice de préférences de F\n",
    "Lf_old = [[2,1,3,4],\n",
    "      [3,4,1,2],\n",
    "      [1,3,4,2],\n",
    "      [2,1,3,4]]\n",
    "Lf = (Lf_old - one).tolist()\n",
    "\n",
    "print(Lh, \"\\n\\n\", Lf)"
   ]
  },
  {
   "cell_type": "code",
   "execution_count": 6,
   "metadata": {},
   "outputs": [],
   "source": [
    "def print_prefs(Lh,Lf):\n",
    "    print(\"##___Lh___##\")\n",
    "    for i in range(n):\n",
    "        print(Lh[i])\n",
    "    print(\"\\n\")\n",
    "    \n",
    "    print(\"##___Lf___##\")\n",
    "    for i in range(n):\n",
    "        print(Lf[i])"
   ]
  },
  {
   "cell_type": "code",
   "execution_count": 7,
   "metadata": {},
   "outputs": [
    {
     "name": "stdout",
     "output_type": "stream",
     "text": [
      "##___Lh___##\n",
      "[1, 2, 0, 3]\n",
      "[3, 0, 2, 1]\n",
      "[1, 3, 0, 2]\n",
      "[2, 0, 3, 1]\n",
      "\n",
      "\n",
      "##___Lf___##\n",
      "[1, 0, 2, 3]\n",
      "[2, 3, 0, 1]\n",
      "[0, 2, 3, 1]\n",
      "[1, 0, 2, 3]\n"
     ]
    }
   ],
   "source": [
    "print_prefs(Lh,Lf)"
   ]
  },
  {
   "cell_type": "code",
   "execution_count": 8,
   "metadata": {
    "scrolled": true
   },
   "outputs": [],
   "source": [
    "#Représentation des couples : l'agent h_i est en couple avec l'agent f_couple[i]\n",
    "#Exemple : si couple = [1, 3, 4, 2] alors l'agent h2 est en couple avec f4 \n",
    "#couples = mdl.integer_var_list(n,0,n-1,'c')"
   ]
  },
  {
   "cell_type": "code",
   "execution_count": 13,
   "metadata": {},
   "outputs": [],
   "source": [
    "def print_sol(sol,n):\n",
    "    if sol.solve_status == \"Feasible\":\n",
    "        res = \"L'ensemble M={\"\n",
    "        for i in range(n):\n",
    "            for j in range(n):\n",
    "                if sol.get_value(couples[i][j]) == 1:\n",
    "                    res = res + \"(h\" + str(i) + \",f\" + str(j) + \"),\"\n",
    "        res = res[:-1] + \"}\" + \" est un mariage stable.\"\n",
    "\n",
    "        print(res)\n",
    "    else:\n",
    "        print(\"Ce modèle ne possède pas de solutions.\")"
   ]
  },
  {
   "cell_type": "code",
   "execution_count": 61,
   "metadata": {
    "scrolled": true
   },
   "outputs": [],
   "source": [
    "def get_model(Lh, Lf) :\n",
    "    n=len(Lh)\n",
    "        \n",
    "    mdl = CpoModel(name='couples')\n",
    "\n",
    "    #Variables\n",
    "    couples = [mdl.binary_var_list(n, f\"c{i}\") for i in range(n)]\n",
    "    h_index = mdl.integer_var_list(n, 0, n-1, name='ih') \n",
    "    f_index = mdl.integer_var_list(n, 0, n-1, name='if')\n",
    "\n",
    "\n",
    "    for i in range(n):\n",
    "        #indice de fi dans Lh\n",
    "        mdl.add(f_index[i] == mdl.sum([couples[i][j] * (Lh[i].index(j)) for j in range(n)]))\n",
    "        #indice de hi dans Lf\n",
    "        mdl.add(h_index[i] == mdl.sum([couples[j][i] * (Lf[i].index(j)) for j in range(n)]))\n",
    "\n",
    "    #Chaque agent ne peut être que dans un seul couple\n",
    "    for i in range(n):\n",
    "        mdl.add(mdl.sum([couples[i][j] for j in range(n)]) == 1)\n",
    "        mdl.add(mdl.sum([couples[j][i] for j in range(n)]) == 1)\n",
    "\n",
    "    #Pas de couple bloquant\n",
    "    #Où un couple bloquant est : hi préfère fj à sa partenaire actuelle\n",
    "    #et fj préfère hi à son partenaire actuel\n",
    "    for i in range(n):\n",
    "        for j in range(n):\n",
    "            #si hi préfère fj à sa partenaire actuelle\n",
    "            #alors il faut que fj ne préfère pas hi à son partenaire actuel\n",
    "            mdl.add(mdl.if_then(Lh[i].index(j) < f_index[i], Lf[j].index(i)>=h_index[i]))\n",
    "\n",
    "    #print(mdl.get_cpo_string())\n",
    "    \n",
    "    return (mdl, couples)"
   ]
  },
  {
   "cell_type": "code",
   "execution_count": 63,
   "metadata": {},
   "outputs": [],
   "source": [
    "mdl, couples =  get_model(Lh, Lf)\n",
    "sol = mdl.solve(trace_log=False, SearchType=\"DepthFirst\")"
   ]
  },
  {
   "cell_type": "markdown",
   "metadata": {},
   "source": [
    "2. Testez le modèle avec l’exemple ci-dessus (ou un autre exemple) en affichant toutes les solutions. Affichez chaque\n",
    "solution avec un format que vous jugez compréhensible."
   ]
  },
  {
   "cell_type": "code",
   "execution_count": 64,
   "metadata": {},
   "outputs": [
    {
     "name": "stdout",
     "output_type": "stream",
     "text": [
      "L'ensemble M={(h0,f3),(h1,f0),(h2,f1),(h3,f2)} est un mariage stable.\n"
     ]
    }
   ],
   "source": [
    "#sol.print_solution()\n",
    "print_sol(sol,n)"
   ]
  },
  {
   "cell_type": "markdown",
   "metadata": {},
   "source": [
    "3. Proposez deux stratégies de recherches différentes qui vous semblent très différentes (i.e., deux combinaisons\n",
    "de type <heuristique de choix de variables + heuristique de choix de valeurs>). On note ces deux stratégies\n",
    "par S1 et S2"
   ]
  },
  {
   "cell_type": "code",
   "execution_count": null,
   "metadata": {},
   "outputs": [],
   "source": []
  },
  {
   "cell_type": "markdown",
   "metadata": {},
   "source": [
    "4. On veut tester S1 et S2 avec une recherche en profondeur sans et avec redémarrage (’DepthFirst’ vs ’Restart’). Voici le protocole de l’étude expérimentale :"
   ]
  },
  {
   "cell_type": "markdown",
   "metadata": {},
   "source": [
    "Générez différentes instances randomisées du problème avec différentes tailles (à partir de n = 5). Pour chaque taille, générez 5 instances."
   ]
  },
  {
   "cell_type": "code",
   "execution_count": 48,
   "metadata": {},
   "outputs": [],
   "source": [
    "import random\n",
    "\n",
    "def get_n_instances(n, taille_min, taille_max):\n",
    "    if (n%5 != 0):\n",
    "        raise ValueError(\"Le nombre d'instances doit être un multiple de 5.\")\n",
    "    if taille_min<5 :\n",
    "        raise ValueError(\"La taille minimale doit être >=5.\")\n",
    "    prefs_aleatoires_list = []\n",
    "    for i in range(int(n/5)):\n",
    "        n = random.randint(taille_min, taille_max)\n",
    "        for j in range(5):\n",
    "            prefs_aleatoires_list.append(generate_prefs(n))\n",
    "    return prefs_aleatoires_list"
   ]
  },
  {
   "cell_type": "markdown",
   "metadata": {},
   "source": [
    "Lancez les 4 expérimentations (S1 et S2 avec une recherche en profondeur sans et avec redémarrage) avec vos jeux de données. Fixez le temps limite à 200s pour chaque exécution."
   ]
  },
  {
   "cell_type": "markdown",
   "metadata": {},
   "source": [
    "Reportez le temps d’exécution et le nombre de nœuds dans des figures en fonction de la taille."
   ]
  },
  {
   "cell_type": "code",
   "execution_count": 87,
   "metadata": {},
   "outputs": [],
   "source": [
    "import matplotlib.pyplot as plt\n",
    "\n",
    "def print_plots(tailles):\n",
    "    nb_instances_par_tailles = 5\n",
    "\n",
    "    temps_s1_sans_restart = []\n",
    "    temps_s1_avec_restart = []\n",
    "    temps_s2_sans_restart = []\n",
    "    temps_s2_avec_restart = []\n",
    "\n",
    "    nb_noeuds_s1_sans_restart = []\n",
    "    nb_noeuds_s1_avec_restart = []\n",
    "    nb_noeuds_s2_sans_restart = []\n",
    "    nb_noeuds_s2_avec_restart = []\n",
    "\n",
    "    for taille in tailles:\n",
    "        #Variables pour le calcul des moyennes du temps d'exécution\n",
    "        temps_moyen_s1_sans_rst = 0\n",
    "        temps_moyen_s1_avec_rst = 0\n",
    "        temps_moyen_s2_sans_rst = 0\n",
    "        temps_moyen_s2_avec_rst = 0\n",
    "        nb_noeuds_moyen_s1_sans_rst = 0\n",
    "        nb_noeuds_moyen_s1_avec_rst = 0\n",
    "        nb_noeuds_moyen_s2_sans_rst = 0\n",
    "        nb_noeuds_moyen_s2_avec_rst = 0\n",
    "        \n",
    "        #Création des 5 instances (on aura 5 instances pour chaque taille)\n",
    "        instances = get_n_instances(nb_instances_par_tailles, taille, taille)\n",
    "        \n",
    "        \n",
    "        for instance in instances:\n",
    "            #Création du modèle\n",
    "            mdl, couples = get_model(instance[0], instance[1])\n",
    "\n",
    "            sol = mdl.solve(trace_log=False, SearchType=\"DepthFirst\", TimeLimit=200)\n",
    "            temps_moyen_s1_sans_rst += sol.get_solver_info('TotalTime')\n",
    "            nb_noeuds_moyen_s1_sans_rst += sol.get_solver_info('NumberOfChoicePoints')\n",
    "\n",
    "            sol = mdl.solve(trace_log=False, SearchType=\"Restart\", TimeLimit=200)\n",
    "            temps_moyen_s1_avec_rst += sol.get_solver_info('TotalTime')\n",
    "            nb_noeuds_moyen_s1_avec_rst += sol.get_solver_info('NumberOfChoicePoints')\n",
    "\n",
    "\n",
    "        temps_s1_sans_restart.append(temps_moyen_s1_sans_rst/nb_instances_par_tailles)\n",
    "        nb_noeuds_s1_sans_restart.append(nb_noeuds_moyen_s1_sans_rst/nb_instances_par_tailles)\n",
    "\n",
    "        temps_s1_avec_restart.append(temps_moyen_s1_avec_rst/nb_instances_par_tailles)\n",
    "        nb_noeuds_s1_avec_restart.append(nb_noeuds_moyen_s1_avec_rst/nb_instances_par_tailles)\n",
    "\n",
    "\n",
    "    plt.plot(tailles, temps_s1_sans_restart, label=\"S1 sans restart\")\n",
    "    plt.plot(tailles, temps_s1_avec_restart, label=\"S1 avec restart\")\n",
    "    plt.xlabel(\"Temps d'exécution\")\n",
    "    plt.ylabel(\"Taille des instances\")\n",
    "    plt.legend()\n",
    "    plt.show()\n",
    "\n",
    "    plt.plot(tailles, temps_s1_sans_restart, label=\"S1 sans restart\")\n",
    "    plt.plot(tailles, temps_s1_avec_restart, label=\"S1 avec restart\")\n",
    "    plt.xlabel(\"Nombre de noeuds\")\n",
    "    plt.ylabel(\"Taille des instances\")\n",
    "    plt.legend()\n",
    "    plt.show()"
   ]
  },
  {
   "cell_type": "code",
   "execution_count": 89,
   "metadata": {},
   "outputs": [
    {
     "data": {
      "image/png": "[encoded data removed]",
      "text/plain": [
       "<Figure size 432x288 with 1 Axes>"
      ]
     },
     "metadata": {
      "needs_background": "light"
     },
     "output_type": "display_data"
    },
    {
     "data": {
      "image/png": "[encoded data removed]",
      "text/plain": [
       "<Figure size 432x288 with 1 Axes>"
      ]
     },
     "metadata": {
      "needs_background": "light"
     },
     "output_type": "display_data"
    }
   ],
   "source": [
    "print_plots(tailles = [5,6])"
   ]
  },
  {
   "cell_type": "markdown",
   "metadata": {},
   "source": [
    "Quelles sont vos conclusions ?"
   ]
  },
  {
   "cell_type": "code",
   "execution_count": null,
   "metadata": {},
   "outputs": [],
   "source": []
  },
  {
   "cell_type": "markdown",
   "metadata": {},
   "source": [
    "## Seconde partie"
   ]
  },
  {
   "cell_type": "code",
   "execution_count": null,
   "metadata": {},
   "outputs": [],
   "source": []
  }
 ],
 "metadata": {
  "kernelspec": {
   "display_name": "Python 3",
   "language": "python",
   "name": "python3"
  },
  "language_info": {
   "codemirror_mode": {
    "name": "ipython",
    "version": 3
   },
   "file_extension": ".py",
   "mimetype": "text/x-python",
   "name": "python",
   "nbconvert_exporter": "python",
   "pygments_lexer": "ipython3",
   "version": "3.7.4"
  }
 },
 "nbformat": 4,
 "nbformat_minor": 2
}
