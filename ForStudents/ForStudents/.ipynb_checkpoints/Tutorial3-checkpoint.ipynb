{
 "cells": [
  {
   "cell_type": "markdown",
   "metadata": {},
   "source": [
    "# Tutorial 3 - Boosting Search via Symmetry Breaking, Implied Constraints, Randomisation, and Restarts \n",
    "revisit the exact parameters so that restars work) "
   ]
  },
  {
   "cell_type": "markdown",
   "metadata": {},
   "source": [
    "**Please do not read untill you fully finish the first 2 tutorials**\n",
    "\n",
    "Congratulations! you are now level one constraint programmer: you know the basics on how to model a problem, how to display solutions, how to evaluate models, and how to choose a good branching strategy !! **I'm so proud of you!**\n",
    "\n",
    "In this tutorial we slowly dive into advanced techniques. We also start to use arithmetic constraints and solve optimisation problems."
   ]
  },
  {
   "cell_type": "code",
   "execution_count": 13,
   "metadata": {},
   "outputs": [],
   "source": [
    "from config import setup\n",
    "setup()\n",
    "\n",
    "## install docplex first with $pip install docplex\n",
    "from docplex.cp.model import *\n",
    "from docplex.cp.config import get_default\n",
    "import display\n",
    "%matplotlib inline"
   ]
  },
  {
   "cell_type": "markdown",
   "metadata": {},
   "source": [
    "## Golomb ruler\n",
    "\n",
    "Your goal is to place $N$ marks on a ruler, such that no two marks are at the same distance and the total length of the ruler (the position of the last mark) is minimized. \n",
    "\n",
    "<div class=\"row\" style=\"margin-top: 10px\">\n",
    "    <img src=\"display/images/Golomb_Ruler-4.svg\" style=\"display: block; margin: auto; width: 400px;\" />\n",
    "    <p style=\"margin: auto; margin-top: 10px; text-align: center;\">Golomb ruler of order 4 and length 6. This ruler is both optimal and perfect.</p>\n",
    "</div>\n",
    "\n",
    "Golomb ruler can be used in information theory to design error correcting codes or in telecommunications to avoid interferences during radio communications. You can read about it here https://en.wikipedia.org/wiki/Golomb_ruler#:~:targetText=In%20mathematics%2C%20a%20Golomb%20ruler,are%20the%20same%20distance%20apart.&targetText=It%20has%20been%20proven%20that,of%20the%20same%20order%20exists."
   ]
  },
  {
   "cell_type": "markdown",
   "metadata": {},
   "source": [
    "\n",
    "**In the rest of this tutorial (except the last part), please use the following parameter with the solve method:**\n",
    "\n",
    "```\n",
    "SearchType= 'DepthFirst'\n",
    "```\n",
    "\n",
    "Also, in order to control the level of filtering (arc consistency, bound consistency, forward checking, etc), CPoptimizer offers to use a parameter called $DefaultInferenceLevel$  http://ibmdecisionoptimization.github.io/docplex-doc/cp/docplex.cp.parameters.py.html?highlight=defaultinferencelevel#docplex.cp.parameters.CpoParameters.DefaultInferenceLevel\n",
    "\n",
    "In the rest of this tutorial, you are required to test all three possibilities\n",
    "\n",
    "\n",
    "```\n",
    "DefaultInferenceLevel=Low\n",
    "DefaultInferenceLevel=Medium\n",
    "DefaultInferenceLevel=Extended\n",
    "\n",
    "```\n",
    "\n",
    "After a while, if you see one that you particularly find efficient (runtime), you can use it for the rest of the tutorial. \n"
   ]
  },
  {
   "cell_type": "markdown",
   "metadata": {},
   "source": [
    "Create a model for the decision version of this problem. That is, given $n$ marks, and a ruler of size $m$, place the $n$ markers such that no two markers are at the same distance. \n",
    "\n",
    "You are free to use any constraint you want. However, you must declare and use the minimum amount of constraints (**NOT A SINGLE UNNESSASARY CONSTRAINT**)\n",
    "\n",
    "Note that for N marks, a ruler of length $2 ^ {N -1}$ can be found (I let you figure out why). \n",
    "\n",
    "Write a funtion decision_model(n,m) that builds and returns the correspondant model. "
   ]
  },
  {
   "cell_type": "code",
   "execution_count": 93,
   "metadata": {},
   "outputs": [],
   "source": [
    "def decision_model(n,m):\n",
    "    mdl = CpoModel(name='decision_model')\n",
    "    \n",
    "    X = mdl.integer_var_list(n,0,m,'x')\n",
    "    \n",
    "    mdl.add(X[i]<X[i+1] for i in range(n-1))\n",
    "    #La valeur des distances entre chaque variable doit être différente\n",
    "    mdl.add(all_diff(X[i] - X[j] for i in range(n) for j in range(i) if i != j))\n",
    "    \n",
    "    \n",
    "    return mdl"
   ]
  },
  {
   "cell_type": "code",
   "execution_count": 19,
   "metadata": {},
   "outputs": [],
   "source": [
    "#mdl.CpoParameters(DefaultInferenceLevel=l)"
   ]
  },
  {
   "cell_type": "markdown",
   "metadata": {},
   "source": [
    "Solve the problem for n=4, m=6. Then try different values of (n,m) (but don't waste too much time). "
   ]
  },
  {
   "cell_type": "code",
   "execution_count": 162,
   "metadata": {},
   "outputs": [
    {
     "name": "stdout",
     "output_type": "stream",
     "text": [
      "-------------------------------------------------------------------------------\n",
      "Model constraints: 4, variables: integer: 4, interval: 0, sequence: 0\n",
      "Solve status: Feasible\n",
      "Search status: SearchCompleted, stop cause: SearchHasNotBeenStopped\n",
      "Solve time: 0 sec\n",
      "-------------------------------------------------------------------------------\n",
      "Variables:\n",
      "   x_0 = 0\n",
      "   x_1 = 1\n",
      "   x_2 = 4\n",
      "   x_3 = 6\n"
     ]
    }
   ],
   "source": [
    "mdl=decision_model(4,6)\n",
    "sol = mdl.solve(trace_log=False,SearchType= 'DepthFirst')\n",
    "sol.print_solution()"
   ]
  },
  {
   "cell_type": "code",
   "execution_count": 102,
   "metadata": {},
   "outputs": [
    {
     "name": "stdout",
     "output_type": "stream",
     "text": [
      "///////////////////////////////////////////////////////////////////////////////\n",
      "// CPO file generated at 2022.12.16-16:45:15 for model: decision_model\n",
      "// Source file: /tmp/ipykernel_18791/521493122.py\n",
      "///////////////////////////////////////////////////////////////////////////////\n",
      "\n",
      "//--- Constants ---\n",
      "\n",
      "//--- Variables ---\n",
      "#line 6 \"/tmp/ipykernel_18791/521493122.py\"\n",
      "x_1 = intVar(0..6);\n",
      "x_0 = intVar(0..6);\n",
      "x_2 = intVar(0..6);\n",
      "x_3 = intVar(0..6);\n",
      "\n",
      "//--- Expressions ---\n",
      "#line 6 \"/tmp/ipykernel_18791/521493122.py\"\n",
      "x_0 < x_1;\n",
      "x_1 < x_2;\n",
      "x_2 < x_3;\n",
      "#line 8\n",
      "alldiff([x_1 - x_0, x_2 - x_0, x_2 - x_1, x_3 - x_0, x_3 - x_1, x_3 - x_2]);\n",
      "\n",
      "//--- Parameters ---\n",
      "#line off\n",
      "parameters {\n",
      "   Presolve = Off;\n",
      "   SearchType = DepthFirst;\n",
      "   Workers = 1;\n",
      "}\n",
      "\n"
     ]
    }
   ],
   "source": [
    "print(mdl.get_cpo_string())"
   ]
  },
  {
   "cell_type": "markdown",
   "metadata": {},
   "source": [
    "You can display to solution using  :  \n",
    "\n",
    "```\n",
    "from display import golomb as display_golomb\n",
    "display_golomb([sol[m] for m in marks])\n",
    "```"
   ]
  },
  {
   "cell_type": "code",
   "execution_count": 104,
   "metadata": {},
   "outputs": [
    {
     "name": "stdout",
     "output_type": "stream",
     "text": [
      "[0, 1, 4, 6]\n"
     ]
    }
   ],
   "source": [
    "N = 4\n",
    "marks = []\n",
    "for i in range(N):\n",
    "    marks.append(sol.get_value(f\"x_{i}\"))\n",
    "\n",
    "print(marks)"
   ]
  },
  {
   "cell_type": "code",
   "execution_count": 107,
   "metadata": {},
   "outputs": [
    {
     "data": {
      "image/png": "[encoded data removed]",
      "text/plain": [
       "<Figure size 1600x1054.52 with 1 Axes>"
      ]
     },
     "metadata": {},
     "output_type": "display_data"
    }
   ],
   "source": [
    "from display import golomb as display_golomb\n",
    "display_golomb([m for m in marks])"
   ]
  },
  {
   "cell_type": "markdown",
   "metadata": {},
   "source": [
    "Print and display all the sulutions for (n,m) = (4,6) and (4,7)"
   ]
  },
  {
   "cell_type": "code",
   "execution_count": 114,
   "metadata": {},
   "outputs": [],
   "source": [
    "#(n,m) = (4,7)\n",
    "N = 4\n",
    "M = 7\n",
    "\n",
    "mdl2=decision_model(N,M)\n",
    "sol2 = mdl2.solve(trace_log=False)\n",
    "#sol.print_solution()"
   ]
  },
  {
   "cell_type": "code",
   "execution_count": 115,
   "metadata": {},
   "outputs": [
    {
     "name": "stdout",
     "output_type": "stream",
     "text": [
      "[0, 1, 4, 6]\n"
     ]
    }
   ],
   "source": [
    "marks = []\n",
    "for i in range(N):\n",
    "    marks.append(sol2.get_value(f\"x_{i}\"))\n",
    "\n",
    "print(marks)"
   ]
  },
  {
   "cell_type": "code",
   "execution_count": 116,
   "metadata": {},
   "outputs": [
    {
     "data": {
      "image/png": "[encoded data removed]",
      "text/plain": [
       "<Figure size 1600x1054.52 with 1 Axes>"
      ]
     },
     "metadata": {},
     "output_type": "display_data"
    }
   ],
   "source": [
    "from display import golomb as display_golomb\n",
    "display_golomb([m for m in marks])"
   ]
  },
  {
   "cell_type": "markdown",
   "metadata": {},
   "source": [
    "Write a funtion  basic_optimisation_model(n) that builds and returns the correspondant model for the\n",
    "optimisation problem. Note that an optimisation function can be seen as a variable. In order to specify the variable to optimise, we can simply use : \n",
    "\n",
    "```\n",
    "model.add(model.minimize(myvariable))\n",
    "```\n",
    "\n",
    "or \n",
    "\n",
    "```\n",
    "model.add(model.maximize(myvariable))\n",
    "```\n"
   ]
  },
  {
   "cell_type": "code",
   "execution_count": 133,
   "metadata": {},
   "outputs": [],
   "source": [
    "def  basic_optimisation_model(n) :\n",
    "    mdl = CpoModel(name='optimisation_model')\n",
    "    m = 2**(n-1)\n",
    "    X = mdl.integer_var_list(n,0,m,'x')\n",
    "    \n",
    "    mdl.add(X[i]<X[i+1] for i in range(n-1))\n",
    "    #La valeur des distances entre chaque variable doit être différente\n",
    "    mdl.add(all_diff(X[i] - X[j] for i in range(n) for j in range(i) if i != j))\n",
    "    mdl.add(mdl.minimize(X[n-1]))\n",
    "    \n",
    "    \n",
    "    return mdl"
   ]
  },
  {
   "cell_type": "code",
   "execution_count": 147,
   "metadata": {},
   "outputs": [
    {
     "name": "stdout",
     "output_type": "stream",
     "text": [
      "-------------------------------------------------------------------------------\n",
      "Model constraints: 10, variables: integer: 10, interval: 0, sequence: 0\n",
      "Solve status: Optimal\n",
      "Search status: SearchCompleted, stop cause: SearchHasNotBeenStopped\n",
      "Solve time: 25.85 sec\n",
      "-------------------------------------------------------------------------------\n",
      "Objective values: (55,), bounds: (0,), gaps: (1,)\n",
      "Variables:\n",
      "   x_0 = 0\n",
      "   x_1 = 1\n",
      "   x_2 = 6\n",
      "   x_3 = 10\n",
      "   x_4 = 23\n",
      "   x_5 = 26\n",
      "   x_6 = 34\n",
      "   x_7 = 41\n",
      "   x_8 = 53\n",
      "   x_9 = 55\n"
     ]
    }
   ],
   "source": [
    "mdl3=basic_optimisation_model(10)\n",
    "sol3 = mdl3.solve(trace_log=False)\n",
    "sol3.print_solution()"
   ]
  },
  {
   "cell_type": "code",
   "execution_count": null,
   "metadata": {},
   "outputs": [],
   "source": []
  },
  {
   "cell_type": "code",
   "execution_count": null,
   "metadata": {},
   "outputs": [],
   "source": []
  },
  {
   "cell_type": "markdown",
   "metadata": {},
   "source": [
    "Solve the optimisation problem for N=6.. 10  and display the solution"
   ]
  },
  {
   "cell_type": "code",
   "execution_count": null,
   "metadata": {},
   "outputs": [],
   "source": []
  },
  {
   "cell_type": "code",
   "execution_count": null,
   "metadata": {},
   "outputs": [],
   "source": []
  },
  {
   "cell_type": "code",
   "execution_count": null,
   "metadata": {},
   "outputs": [],
   "source": []
  },
  {
   "cell_type": "code",
   "execution_count": null,
   "metadata": {},
   "outputs": [],
   "source": []
  },
  {
   "cell_type": "markdown",
   "metadata": {},
   "source": [
    "# Symmetry Breaking"
   ]
  },
  {
   "cell_type": "markdown",
   "metadata": {},
   "source": [
    "In combinatorial optimisation, two (partial) solutions are called symmetric if we can find a transformation from one to the other. \n",
    "Consider our golomb ruler problem. Given any solution to the marks variables, if the first mark is not at index $0$, we can always shift everything to the left to start from $0$ and still have a solution. \n",
    "\n",
    "Constraint programming is extremely flexible to handle symmetries since they can be declared as constraints. \n",
    "\n",
    "In the case of the above symmetry, we can simply add \n",
    "```\n",
    "model.add (marks[0]==0)\n",
    "```\n",
    "\n",
    "This problem has another symmetry, can you find it? In order to help you, display the solution for n=4 and m=6 for the decision problem. You should find 2 solutions that are essentially the same. Can you find the symmetry? How can we model this symmetry as a constraint? "
   ]
  },
  {
   "cell_type": "code",
   "execution_count": null,
   "metadata": {},
   "outputs": [],
   "source": []
  },
  {
   "cell_type": "code",
   "execution_count": null,
   "metadata": {},
   "outputs": [],
   "source": []
  },
  {
   "cell_type": "markdown",
   "metadata": {},
   "source": [
    "Write a new function nosymmetry_optimisation_model(n) that builds a new model that avoids the two symmetries we found so far. "
   ]
  },
  {
   "cell_type": "code",
   "execution_count": 142,
   "metadata": {},
   "outputs": [],
   "source": [
    "def nosymmetry_optimisation_model(n) :\n",
    "    mdl = CpoModel(name='nosymmetry_optimisation_model')\n",
    "    m = 2**(n-1)\n",
    "    X = mdl.integer_var_list(n,0,m,'x')\n",
    "    \n",
    "    mdl.add(X[1]-X[0] <= X[n-1]-X[n-2])\n",
    "    mdl.add(X[i]<X[i+1] for i in range(n-1))\n",
    "    #La valeur des distances entre chaque variable doit être différente\n",
    "    mdl.add(all_diff(X[i] - X[j] for i in range(n) for j in range(i) if i != j))\n",
    "    mdl.add(mdl.minimize(X[n-1]))\n",
    "    \n",
    "    \n",
    "    return mdl"
   ]
  },
  {
   "cell_type": "code",
   "execution_count": 145,
   "metadata": {},
   "outputs": [
    {
     "name": "stdout",
     "output_type": "stream",
     "text": [
      "-------------------------------------------------------------------------------\n",
      "Model constraints: 11, variables: integer: 10, interval: 0, sequence: 0\n",
      "Solve status: Optimal\n",
      "Search status: SearchCompleted, stop cause: SearchHasNotBeenStopped\n",
      "Solve time: 15.58 sec\n",
      "-------------------------------------------------------------------------------\n",
      "Objective values: (55,), bounds: (0,), gaps: (1,)\n",
      "Variables:\n",
      "   x_0 = 0\n",
      "   x_1 = 1\n",
      "   x_2 = 6\n",
      "   x_3 = 10\n",
      "   x_4 = 23\n",
      "   x_5 = 26\n",
      "   x_6 = 34\n",
      "   x_7 = 41\n",
      "   x_8 = 53\n",
      "   x_9 = 55\n"
     ]
    }
   ],
   "source": [
    "mdl4=nosymmetry_optimisation_model(10)\n",
    "sol4 = mdl4.solve(trace_log=False)\n",
    "sol4.print_solution()"
   ]
  },
  {
   "cell_type": "markdown",
   "metadata": {},
   "source": [
    "Compare nosymmetry_optimisation_model and basic_optimisation_model for different values of $n$ (you decide the values of $n$). Plot the runtime and the search tree size"
   ]
  },
  {
   "cell_type": "code",
   "execution_count": 148,
   "metadata": {},
   "outputs": [
    {
     "data": {
      "text/plain": [
       "25.85"
      ]
     },
     "execution_count": 148,
     "metadata": {},
     "output_type": "execute_result"
    }
   ],
   "source": [
    "sol3.get_solver_infos()['TotalTime']"
   ]
  },
  {
   "cell_type": "code",
   "execution_count": 146,
   "metadata": {},
   "outputs": [
    {
     "data": {
      "text/plain": [
       "15.58"
      ]
     },
     "execution_count": 146,
     "metadata": {},
     "output_type": "execute_result"
    }
   ],
   "source": [
    "sol4.get_solver_infos()['TotalTime']"
   ]
  },
  {
   "cell_type": "markdown",
   "metadata": {},
   "source": [
    "What's your impression about symmetries? "
   ]
  },
  {
   "cell_type": "raw",
   "metadata": {},
   "source": [
    "We can gain a lot of time !"
   ]
  },
  {
   "cell_type": "markdown",
   "metadata": {},
   "source": [
    "## Implied Constraints"
   ]
  },
  {
   "cell_type": "markdown",
   "metadata": {},
   "source": [
    "An implied constraint is one that can be dedused by looking at the original constraints of the problem. \n",
    "\n",
    "For instance, if we have $a<b $ and $b<c$, one can infer that $a<c$. \n",
    "\n",
    "Such constraints (called also redundant constraints) can help the solver to prune further the search tree. \n",
    "\n",
    "\n",
    "\n",
    "In our problem there is an implied constraint. Can you find it? Please check with of the supervisors. \n",
    "\n"
   ]
  },
  {
   "cell_type": "raw",
   "metadata": {},
   "source": []
  },
  {
   "cell_type": "markdown",
   "metadata": {},
   "source": [
    "Write a new function nosymmetry2_optimisation_model(n) that adds the implied constraint to the nosymmetry_optimisation_model(n) and returns the new model "
   ]
  },
  {
   "cell_type": "code",
   "execution_count": 153,
   "metadata": {},
   "outputs": [],
   "source": [
    "def nosymmetry2_optimisation_model(n) :\n",
    "    mdl = CpoModel(name='nosymmetry_optimisation_model')\n",
    "    m = 2**(n-1)\n",
    "    X = mdl.integer_var_list(n,0,m,'x')\n",
    "    \n",
    "    mdl.add(X[1]-X[0] <= X[n-1]-X[n-2])\n",
    "    mdl.add(X[i]<X[i+1] for i in range(n-1))\n",
    "    #La valeur des distances entre chaque variable doit être différente\n",
    "    mdl.add(all_diff(X[i] - X[j] for i in range(n) for j in range(i) if i != j))\n",
    "    mdl.add(mdl.minimize(X[n-1]))\n",
    "    mdl.add(X[n-1] <= 2*X[n-2] +1)\n",
    "    \n",
    "    return mdl"
   ]
  },
  {
   "cell_type": "code",
   "execution_count": 154,
   "metadata": {},
   "outputs": [
    {
     "name": "stdout",
     "output_type": "stream",
     "text": [
      "-------------------------------------------------------------------------------\n",
      "Model constraints: 12, variables: integer: 10, interval: 0, sequence: 0\n",
      "Solve status: Optimal\n",
      "Search status: SearchCompleted, stop cause: SearchHasNotBeenStopped\n",
      "Solve time: 15.3 sec\n",
      "-------------------------------------------------------------------------------\n",
      "Objective values: (55,), bounds: (0,), gaps: (1,)\n",
      "Variables:\n",
      "   x_0 = 0\n",
      "   x_1 = 1\n",
      "   x_2 = 6\n",
      "   x_3 = 10\n",
      "   x_4 = 23\n",
      "   x_5 = 26\n",
      "   x_6 = 34\n",
      "   x_7 = 41\n",
      "   x_8 = 53\n",
      "   x_9 = 55\n"
     ]
    }
   ],
   "source": [
    "mdl5=nosymmetry2_optimisation_model(10)\n",
    "sol5 = mdl5.solve(trace_log=False)\n",
    "sol5.print_solution()"
   ]
  },
  {
   "cell_type": "markdown",
   "metadata": {},
   "source": [
    "Compare nosymmetry2_optimisation_model and nosymmetry_optimisation_model "
   ]
  },
  {
   "cell_type": "code",
   "execution_count": 157,
   "metadata": {},
   "outputs": [
    {
     "data": {
      "text/plain": [
       "15.58"
      ]
     },
     "execution_count": 157,
     "metadata": {},
     "output_type": "execute_result"
    }
   ],
   "source": [
    "sol4.get_solver_infos()['TotalTime']"
   ]
  },
  {
   "cell_type": "code",
   "execution_count": 156,
   "metadata": {},
   "outputs": [
    {
     "data": {
      "text/plain": [
       "15.3"
      ]
     },
     "execution_count": 156,
     "metadata": {},
     "output_type": "execute_result"
    }
   ],
   "source": [
    "sol5.get_solver_infos()['TotalTime']"
   ]
  },
  {
   "cell_type": "markdown",
   "metadata": {},
   "source": [
    "# Randomisation and Restarts"
   ]
  },
  {
   "cell_type": "markdown",
   "metadata": {},
   "source": [
    "Declare two search strategies: One that uses a lexicographical order on both variables and values, \n",
    "    and the other using an impact-based choice on the variables with a random value selection.     "
   ]
  },
  {
   "cell_type": "markdown",
   "metadata": {},
   "source": [
    "Run the two strategies using the nosymmetry2_optimisation_model for different values of $n$"
   ]
  },
  {
   "cell_type": "code",
   "execution_count": 160,
   "metadata": {},
   "outputs": [],
   "source": [
    "#Strategy using lexicographical order on variables and values\n",
    "\n",
    "SearchType= 'DepthFirst'"
   ]
  },
  {
   "cell_type": "code",
   "execution_count": 161,
   "metadata": {},
   "outputs": [],
   "source": [
    "#Strategy using impact-basied choice on the variables and random value selection\n",
    "#impact-based choice => \n"
   ]
  },
  {
   "cell_type": "code",
   "execution_count": null,
   "metadata": {},
   "outputs": [],
   "source": []
  },
  {
   "cell_type": "markdown",
   "metadata": {},
   "source": [
    "### The magic of restarts\n",
    "\n",
    "\n",
    "Combinatorial search exhibits usually a bad behaviour in the runtime distribution called **heavy tailed phenomenon**. \n",
    "That is, at any node of the search tree, there is a non-negligeable probability that the time needed to explore the current subtree is heavier than \n",
    "an exponential distribution (you can read about it here https://aaai.org/Papers/AAAI/1998/AAAI98-061.pdf. \n",
    "\n",
    "\n",
    "A simple solution to deal with such a bad behaviour is to restart search from time to time. \n",
    "CPOptimizer offers this choice by using the parameter: \n",
    "    \n",
    "```\n",
    "    SearchType= 'Restart'\n",
    "```\n",
    "\n"
   ]
  },
  {
   "cell_type": "markdown",
   "metadata": {},
   "source": [
    "Using a restart search, evaluate the two strategies mentionned above using the nosymmetry2_optimisation_model for different values of $n$. What do you think?  "
   ]
  },
  {
   "cell_type": "code",
   "execution_count": null,
   "metadata": {},
   "outputs": [],
   "source": []
  },
  {
   "cell_type": "code",
   "execution_count": null,
   "metadata": {},
   "outputs": [],
   "source": []
  },
  {
   "cell_type": "markdown",
   "metadata": {},
   "source": [
    "What is the maximum value of $n$ for which you can solve this problem? Use all your techniques! "
   ]
  },
  {
   "cell_type": "code",
   "execution_count": null,
   "metadata": {},
   "outputs": [],
   "source": [
    "### WARNING : This block takes a lot of time to execute\n",
    "# A lot of configurations try for instance \n"
   ]
  },
  {
   "cell_type": "markdown",
   "metadata": {},
   "source": [
    "What did you learn today? "
   ]
  },
  {
   "cell_type": "raw",
   "metadata": {},
   "source": []
  }
 ],
 "metadata": {
  "kernelspec": {
   "display_name": "Python (CPLEX)",
   "language": "python",
   "name": "cplex"
  },
  "language_info": {
   "codemirror_mode": {
    "name": "ipython",
    "version": 3
   },
   "file_extension": ".py",
   "mimetype": "text/x-python",
   "name": "python",
   "nbconvert_exporter": "python",
   "pygments_lexer": "ipython3",
   "version": "3.7.13"
  },
  "latex_envs": {
   "LaTeX_envs_menu_present": true,
   "autoclose": false,
   "autocomplete": true,
   "bibliofile": "biblio.bib",
   "cite_by": "apalike",
   "current_citInitial": 1,
   "eqLabelWithNumbers": true,
   "eqNumInitial": 1,
   "hotkeys": {
    "equation": "Ctrl-E",
    "itemize": "Ctrl-I"
   },
   "labels_anchors": false,
   "latex_user_defs": false,
   "report_style_numbering": false,
   "user_envs_cfg": false
  }
 },
 "nbformat": 4,
 "nbformat_minor": 2
}
