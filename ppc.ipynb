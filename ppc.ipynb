{
 "cells": [
  {
   "cell_type": "markdown",
   "metadata": {},
   "source": [
    "# Programmation par contrainte: évaluation pratique\n",
    "## 5-SDBD + mastère VALDOM, INSA Toulouse, janvier 2023"
   ]
  },
  {
   "cell_type": "markdown",
   "metadata": {},
   "source": [
    "## Première partie"
   ]
  },
  {
   "cell_type": "markdown",
   "metadata": {},
   "source": [
    "On utilise tout au long de ce sujet deux ensembles d’agents H = {h1, . . . hn} et F = {f1, . . . fn}. Chaque agent\n",
    "hi ∈ H exprime ses préférences de couplage avec un agent de F à travers une liste L(hi) contenant les éléments de F\n",
    "sans duplication. Pour tout k ∈ [1, n − 1], hi préfère être couplé avec le kème agent dans L(hi) que le k + 1ème agent.\n",
    "De la même façon, chaque agent fj ∈ F exprime ses préférences de couplage avec un agent de H à travers une liste\n",
    "L(fj ).\n",
    "\n",
    "Un tuple (h, f ) est appelé un couple si h ∈ H et f ∈ F . Soit M un ensemble de couples. Un agent a préfère un\n",
    "agent b à sa situation dans M si a n’appartient à aucun couple dans M ou si a préfère b à son partenaire dans M . Un\n",
    "couple (h, f ) ∈ M bloque M si h préfère f à sa situation dans M et f préfère h à sa situation dans M .\n",
    "Un mariage stable est un ensemble de couples M tel que chaque agent est couplé avec un seul agent et M n’admet\n",
    "aucun couple bloquant. On note qu’une instance de ce problème peut admettre plusieurs solutions."
   ]
  },
  {
   "cell_type": "code",
   "execution_count": 229,
   "metadata": {},
   "outputs": [],
   "source": [
    "from config import setup\n",
    "setup()\n",
    "\n",
    "from docplex.cp.model import *\n",
    "from docplex.cp.config import get_default\n",
    "\n",
    "import numpy as np\n",
    "%matplotlib inline"
   ]
  },
  {
   "cell_type": "markdown",
   "metadata": {},
   "source": [
    "1. Proposez un modèle de programmation par contrainte pour trouver un mariage stable. Le modèle peut inclure\n",
    "des contraintes logiques (par exemple if_then). L’utilisation de ce genre de contraintes est accessible dans la\n",
    "documentation du solveur. Utilisez la recherche en profondeur par défaut ((’DepthFirst’) sans préciser des\n",
    "heuristiques de branchements. N’affichez pas les traces d’exécutions internes du solveur."
   ]
  },
  {
   "cell_type": "code",
   "execution_count": 442,
   "metadata": {},
   "outputs": [],
   "source": [
    "from random import shuffle\n",
    "\n",
    "def generate_prefs(n):    \n",
    "    Lh = []\n",
    "    Lf = []\n",
    "    for i in range(n):\n",
    "        h = list(set(list(range(n))))\n",
    "        f = list(set(list(range(n))))\n",
    "        shuffle(h)\n",
    "        Lh.append(h)\n",
    "        shuffle(f)\n",
    "        Lf.append(f)\n",
    "        \n",
    "    return Lh, Lf"
   ]
  },
  {
   "cell_type": "code",
   "execution_count": 450,
   "metadata": {},
   "outputs": [
    {
     "data": {
      "text/plain": [
       "([[1, 2, 4, 0, 3],\n",
       "  [4, 3, 0, 2, 1],\n",
       "  [2, 3, 1, 4, 0],\n",
       "  [2, 3, 0, 4, 1],\n",
       "  [4, 0, 2, 1, 3]],\n",
       " [[3, 4, 0, 1, 2],\n",
       "  [1, 2, 0, 3, 4],\n",
       "  [1, 2, 4, 3, 0],\n",
       "  [3, 0, 2, 4, 1],\n",
       "  [0, 1, 2, 4, 3]])"
      ]
     },
     "execution_count": 450,
     "metadata": {},
     "output_type": "execute_result"
    }
   ],
   "source": [
    "generate_prefs(5)"
   ]
  },
  {
   "cell_type": "code",
   "execution_count": 473,
   "metadata": {},
   "outputs": [],
   "source": [
    "#Données du sujet\n",
    "#Nombre d'agents dans chaque groupe\n",
    "n0 = 4\n",
    "\n",
    "#Matrice de préférences de H (liste de listes)\n",
    "#La préférence est décroissante : plus un agent a un indice bas, plus la préférence est élevée\n",
    "Lh0 = [[2,3,1,4], \n",
    "       [4,1,3,2],\n",
    "       [2,4,1,3],\n",
    "       [3,1,4,2]]\n",
    "\n",
    "#Matrice de préférences de F\n",
    "Lf0 = [[2,1,3,4],\n",
    "       [3,4,1,2],\n",
    "       [1,3,4,2],\n",
    "       [2,1,3,4]]\n",
    "\n",
    "ones = np.ones(n,int)\n",
    "Lh0 = (Lh0 - ones).tolist()\n",
    "Lf0 = (Lf0 - ones).tolist()"
   ]
  },
  {
   "cell_type": "code",
   "execution_count": 492,
   "metadata": {},
   "outputs": [],
   "source": [
    "def print_prefs(Lh,Lf,n):\n",
    "    print(\"Lh =\", Lh[0])\n",
    "    for i in range(1,n):\n",
    "        print(\"    \",Lh[i])\n",
    "    print(\"\")\n",
    "    \n",
    "    print(\"Lf =\", Lf[0])\n",
    "    for i in range(1,n):\n",
    "        print(\"    \",Lf[i])\n",
    "    print(\"\")"
   ]
  },
  {
   "cell_type": "code",
   "execution_count": 493,
   "metadata": {},
   "outputs": [
    {
     "name": "stdout",
     "output_type": "stream",
     "text": [
      "Lh = [1, 2, 0, 3]\n",
      "     [3, 0, 2, 1]\n",
      "     [1, 3, 0, 2]\n",
      "     [2, 0, 3, 1]\n",
      "\n",
      "Lf = [1, 0, 2, 3]\n",
      "     [2, 3, 0, 1]\n",
      "     [0, 2, 3, 1]\n",
      "     [1, 0, 2, 3]\n",
      "\n"
     ]
    }
   ],
   "source": [
    "print_prefs(Lh0,Lf0,n0)"
   ]
  },
  {
   "cell_type": "code",
   "execution_count": 594,
   "metadata": {},
   "outputs": [],
   "source": [
    "def print_sol(sol):\n",
    "    if sol.solve_status != \"Infeasible\":\n",
    "        s = sol.get_all_var_solutions()\n",
    "        indices = []\n",
    "        for e in s:    \n",
    "            if(e.get_name()[0] == 'c'):\n",
    "                if e.get_value() == 1:\n",
    "                    var = e.get_name()\n",
    "                    indice = []\n",
    "                    for l in var:\n",
    "                        try:\n",
    "                            i = int(l)\n",
    "                            indice.append(i)\n",
    "                        except:\n",
    "                            pass\n",
    "                    indices.append(indice)\n",
    "                    \n",
    "        res = \"L'ensemble M={\"\n",
    "        for i in range(len(indices)):\n",
    "            res = res + \"(h_\" + str(indices[i][0]) + \",f_\" + str(indices[i][1]) + \"),\"\n",
    "        res = res[:-1] + \"}\" + \" est un mariage stable.\"\n",
    "\n",
    "        print(res)\n",
    "    else:\n",
    "        print(\"Ce modèle ne possède pas de solutions.\")"
   ]
  },
  {
   "cell_type": "code",
   "execution_count": 632,
   "metadata": {
    "scrolled": true
   },
   "outputs": [],
   "source": [
    "def generate_mdl1(n, Lh, Lf):\n",
    "    mdl = CpoModel(name='Couples stables')\n",
    "\n",
    "    #Lh, Lf = generate_prefs(n)\n",
    "    #Variables\n",
    "    couples = [mdl.binary_var_list(n, f\"c{i}\") for i in range(n)]\n",
    "    h_index = mdl.integer_var_list(n, 0, n-1, name='ih') \n",
    "    f_index = mdl.integer_var_list(n, 0, n-1, name='if')\n",
    "\n",
    "\n",
    "    for i in range(n):\n",
    "        #indice de fi dans Lh\n",
    "        mdl.add(f_index[i] == mdl.sum([couples[i][j] * (Lh[i].index(j)) for j in range(n)]))\n",
    "        #indice de hi dans Lf\n",
    "        mdl.add(h_index[i] == mdl.sum([couples[j][i] * (Lf[i].index(j)) for j in range(n)]))\n",
    "\n",
    "    #Chaque agent ne peut être que dans un seul couple\n",
    "    for i in range(n):\n",
    "        mdl.add(mdl.sum([couples[i][j] for j in range(n)]) == 1)\n",
    "        mdl.add(mdl.sum([couples[j][i] for j in range(n)]) == 1)\n",
    "\n",
    "    # Blocking couple\n",
    "    for i in range(n):\n",
    "        for j in range(n):\n",
    "            mdl.add(mdl.if_then(Lh[i].index(j) < f_index[i], Lf[j].index(i)>=h_index[i]))\n",
    "            \n",
    "    #print(\"Modèle généré : n =\", n)\n",
    "    #print_prefs(Lh,Lf,n)\n",
    "    return mdl, couples\n"
   ]
  },
  {
   "cell_type": "code",
   "execution_count": 636,
   "metadata": {},
   "outputs": [],
   "source": [
    "def generate_instance(n):\n",
    "    Lh, Lf = generate_prefs(n)\n",
    "    mdl, c = generate_mdl1(n, Lh, Lf)\n",
    "    return mdl, c"
   ]
  },
  {
   "cell_type": "code",
   "execution_count": 637,
   "metadata": {},
   "outputs": [
    {
     "name": "stdout",
     "output_type": "stream",
     "text": [
      "L'ensemble M={(h_0,f_0),(h_1,f_1),(h_2,f_3),(h_3,f_2)} est un mariage stable.\n"
     ]
    }
   ],
   "source": [
    "mdl,c = generate_instance(4)\n",
    "mdl.solve(trace_log=False)\n",
    "print_sol(sol)"
   ]
  },
  {
   "cell_type": "markdown",
   "metadata": {},
   "source": [
    "3. Proposez deux stratégies de recherches différentes qui vous semblent très différentes (i.e., deux combinaisons de type <heuristique de choix de variables + heuristique de choix de valeurs>). On note ces deux stratégies par S1 et S2\n"
   ]
  },
  {
   "cell_type": "markdown",
   "metadata": {},
   "source": [
    "4. On veut tester S1 et S2 avec une recherche en profondeur sans et avec redémarrage (’DepthFirst’ vs ’Restart’). Voici le protocole de l’étude expérimentale :\n",
    "\n",
    "Générez différentes instances randomisées du problème avec différentes tailles (à partir de n = 5). Pour chaque taille, générez 5 instances.\n"
   ]
  },
  {
   "cell_type": "code",
   "execution_count": 638,
   "metadata": {},
   "outputs": [],
   "source": [
    "def generate_5_instances(n):\n",
    "    instances = []\n",
    "    for i in range(5):\n",
    "        mdl, c = generate_instance(n)\n",
    "        instances.append((mdl,c))\n",
    "    return instances"
   ]
  },
  {
   "cell_type": "markdown",
   "metadata": {},
   "source": [
    "Lancez les 4 expérimentations (S1 et S2 avec une recherche en profondeur sans et avec redémarrage) avec vos jeux de données. Fixez le temps limite à 200s pour chaque exécution.\n",
    "\n",
    "Reportez le temps d’exécution et le nombre de nœuds dans des figures en fonction de la taille.\n"
   ]
  },
  {
   "cell_type": "code",
   "execution_count": 694,
   "metadata": {},
   "outputs": [],
   "source": [
    "import matplotlib.pyplot as plt\n",
    "\n",
    "def print_plots(tailles):\n",
    "\n",
    "    temps_s1_sans_restart = []\n",
    "    temps_s1_avec_restart = []\n",
    "    temps_s2_sans_restart = []\n",
    "    temps_s2_avec_restart = []\n",
    "\n",
    "    nb_noeuds_s1_sans_restart = []\n",
    "    nb_noeuds_s1_avec_restart = []\n",
    "    nb_noeuds_s2_sans_restart = []\n",
    "    nb_noeuds_s2_avec_restart = []\n",
    "\n",
    "    for taille in tailles:\n",
    "        #Variables pour le calcul des moyennes du temps d'exécution\n",
    "        temps_moyen_s1_sans_rst = 0\n",
    "        temps_moyen_s1_avec_rst = 0\n",
    "        temps_moyen_s2_sans_rst = 0\n",
    "        temps_moyen_s2_avec_rst = 0\n",
    "        nb_noeuds_moyen_s1_sans_rst = 0\n",
    "        nb_noeuds_moyen_s1_avec_rst = 0\n",
    "        nb_noeuds_moyen_s2_sans_rst = 0\n",
    "        nb_noeuds_moyen_s2_avec_rst = 0\n",
    "        \n",
    "        #Création des 5 instances (on aura 5 instances pour chaque taille)\n",
    "        instances = generate_5_instances(taille)\n",
    "        \n",
    "        \n",
    "        for instance in instances:\n",
    "            #Création du modèle\n",
    "            mdl, couples = instance\n",
    "            \n",
    "            #S1 : default\n",
    "            \n",
    "            sol1 = mdl.solve(trace_log=False, SearchType=\"DepthFirst\", TimeLimit=200)\n",
    "            temps_moyen_s1_sans_rst += sol1.get_solver_info('TotalTime')\n",
    "            nb_noeuds_moyen_s1_sans_rst += sol1.get_solver_info('NumberOfChoicePoints')\n",
    "            \n",
    "            sol2 = mdl.solve(trace_log=False, SearchType=\"Restart\", TimeLimit=200)\n",
    "            temps_moyen_s1_avec_rst += sol2.get_solver_info('TotalTime')\n",
    "            nb_noeuds_moyen_s1_avec_rst += sol2.get_solver_info('NumberOfChoicePoints')\n",
    "            \n",
    "            #S2 : <random, random>\n",
    "            \n",
    "            mdl2 = mdl\n",
    "            S2 = mdl2.search_phase(varchooser=mdl2.select_random_var(),valuechooser=mdl2.select_random_value())\n",
    "            mdl2.add_search_phase(S2)\n",
    "            \n",
    "            sol3 = mdl2.solve(trace_log=False, SearchType=\"DepthFirst\", TimeLimit=200)\n",
    "            temps_moyen_s2_sans_rst += sol3.get_solver_info('TotalTime')\n",
    "            nb_noeuds_moyen_s2_sans_rst += sol3.get_solver_info('NumberOfChoicePoints')\n",
    "            \n",
    "            sol4 = mdl2.solve(trace_log=False, SearchType=\"Restart\", TimeLimit=200)\n",
    "            temps_moyen_s2_avec_rst += sol4.get_solver_info('TotalTime')\n",
    "            nb_noeuds_moyen_s2_avec_rst += sol4.get_solver_info('NumberOfChoicePoints')\n",
    "\n",
    "        temps_s1_sans_restart.append(temps_moyen_s1_sans_rst/5)\n",
    "        nb_noeuds_s1_sans_restart.append(nb_noeuds_moyen_s1_sans_rst/5)\n",
    "\n",
    "        temps_s1_avec_restart.append(temps_moyen_s1_avec_rst/5)\n",
    "        nb_noeuds_s1_avec_restart.append(nb_noeuds_moyen_s1_avec_rst/5)\n",
    "        \n",
    "        temps_s2_sans_restart.append(temps_moyen_s2_sans_rst/5)\n",
    "        nb_noeuds_s2_sans_restart.append(nb_noeuds_moyen_s2_sans_rst/5)\n",
    "\n",
    "        temps_s2_avec_restart.append(temps_moyen_s2_avec_rst/5)\n",
    "        nb_noeuds_s2_avec_restart.append(nb_noeuds_moyen_s2_avec_rst/5)\n",
    "\n",
    "\n",
    "    plt.plot(tailles, temps_s1_sans_restart, label=\"S1 sans restart\")\n",
    "    plt.plot(tailles, temps_s1_avec_restart, label=\"S1 avec restart\")\n",
    "    plt.plot(tailles, temps_s2_sans_restart, label=\"S2 sans restart\")\n",
    "    plt.plot(tailles, temps_s2_avec_restart, label=\"S2 avec restart\")\n",
    "    plt.ylabel(\"Temps d'exécution\")\n",
    "    plt.xlabel(\"Taille des instances\")\n",
    "    plt.legend()\n",
    "    plt.show()\n",
    "\n",
    "    plt.plot(tailles, nb_noeuds_s1_sans_restart, label=\"S1 sans restart\")\n",
    "    plt.plot(tailles, nb_noeuds_s1_avec_restart, label=\"S1 avec restart\")\n",
    "    plt.plot(tailles, nb_noeuds_s2_sans_restart, label=\"S2 sans restart\")\n",
    "    plt.plot(tailles, nb_noeuds_s2_avec_restart, label=\"S2 avec restart\")\n",
    "    plt.ylabel(\"Nombre de noeuds\")\n",
    "    plt.xlabel(\"Taille des instances\")\n",
    "    plt.legend()\n",
    "    plt.show()"
   ]
  },
  {
   "cell_type": "code",
   "execution_count": 678,
   "metadata": {},
   "outputs": [],
   "source": [
    "sizes = [x for x in range(5,12)]"
   ]
  },
  {
   "cell_type": "code",
   "execution_count": 695,
   "metadata": {},
   "outputs": [
    {
     "data": {
      "image/png": "[encoded data removed]",
      "text/plain": [
       "<Figure size 432x288 with 1 Axes>"
      ]
     },
     "metadata": {
      "needs_background": "light"
     },
     "output_type": "display_data"
    },
    {
     "data": {
      "image/png": "[encoded data removed]",
      "text/plain": [
       "<Figure size 432x288 with 1 Axes>"
      ]
     },
     "metadata": {
      "needs_background": "light"
     },
     "output_type": "display_data"
    }
   ],
   "source": [
    "print_plots(sizes)"
   ]
  },
  {
   "cell_type": "markdown",
   "metadata": {},
   "source": [
    "Nous remarquons que la méthode par default sans restart est largement moins performante que les autres méthodes. Le restart ne semble pas avoir d'impact sur les performances lorsque nous utilisons des heuristiques aléatoires"
   ]
  },
  {
   "cell_type": "markdown",
   "metadata": {},
   "source": [
    "## Seconde partie"
   ]
  },
  {
   "cell_type": "code",
   "execution_count": 696,
   "metadata": {},
   "outputs": [],
   "source": [
    "def generate_mdl2(n, Lh, Lf):\n",
    "    mdl = CpoModel(name='couples stables avec score')\n",
    "\n",
    "    #Variables\n",
    "    couples = [mdl.binary_var_list(n, f\"c{i}\") for i in range(n)]\n",
    "    h_index = mdl.integer_var_list(n, 0, n-1, name='ih') \n",
    "    f_index = mdl.integer_var_list(n, 0, n-1, name='if')\n",
    "\n",
    "    score = mdl.integer_var(0,n-1,\"z\")\n",
    "\n",
    "    DH = mdl.max(h_index)\n",
    "    DF = mdl.max(f_index)\n",
    "\n",
    "    #Contrainte sur le score\n",
    "    mdl.add(score == abs(DH - DF))\n",
    "\n",
    "    #Récupération des indexes de h et f dans couples\n",
    "    for i in range(n):\n",
    "        #indice de fi dans Lh\n",
    "        mdl.add(f_index[i] == mdl.sum([couples[i][j] * (Lh[i].index(j)) for j in range(n)]))\n",
    "        #indice de hi dans Lf\n",
    "        mdl.add(h_index[i] == mdl.sum([couples[j][i] * (Lf[i].index(j)) for j in range(n)]))\n",
    "\n",
    "    #Chaque agent ne peut être que dans un seul couple\n",
    "    for i in range(n):\n",
    "        mdl.add(mdl.sum([couples[i][j] for j in range(n)]) == 1)\n",
    "        mdl.add(mdl.sum([couples[j][i] for j in range(n)]) == 1)\n",
    "\n",
    "    #Couple bloquants\n",
    "    for i in range(n):\n",
    "        for j in range(n):\n",
    "            mdl.add(mdl.if_then(Lh[i].index(j) < f_index[i], Lf[j].index(i)>=h_index[i]))\n",
    "\n",
    "    #Minimisation du score       \n",
    "    mdl.add(mdl.minimize(score))\n",
    "    \n",
    "    return mdl, couples"
   ]
  },
  {
   "cell_type": "code",
   "execution_count": 609,
   "metadata": {},
   "outputs": [],
   "source": [
    "def print_indexes(sol):\n",
    "    if sol.solve_status != \"Infeasible\":\n",
    "        s = sol.get_all_var_solutions()\n",
    "        If = []\n",
    "        Ih = []\n",
    "        for e in s:    \n",
    "            if(e.get_name()[0] == 'i'):\n",
    "                if(e.get_name()[1] == 'f'):\n",
    "                    If.append(e.get_value())\n",
    "                if(e.get_name()[1] == 'h'):\n",
    "                    Ih.append(e.get_value())\n",
    "    \n",
    "        print(\"Ih =\", Ih,\"\\nIf =\", If)"
   ]
  },
  {
   "cell_type": "code",
   "execution_count": 697,
   "metadata": {},
   "outputs": [],
   "source": [
    "def generate_instance2(n):\n",
    "    Lh, Lf = generate_prefs(n)\n",
    "    mdl, c = generate_mdl2(n, Lh, Lf)\n",
    "    return mdl, c"
   ]
  },
  {
   "cell_type": "code",
   "execution_count": 699,
   "metadata": {},
   "outputs": [
    {
     "name": "stdout",
     "output_type": "stream",
     "text": [
      "L'ensemble M={(h_0,f_2),(h_3,f_0),(h_1,f_3),(h_4,f_1),(h_2,f_4)} est un mariage stable.\n",
      "Ih = [3, 1, 2, 0, 1] \n",
      "If = [0, 0, 0, 4, 0]\n"
     ]
    }
   ],
   "source": [
    "mdl,c = generate_instance(5)\n",
    "sol = mdl.solve(trace_log=False)\n",
    "print_sol(sol)\n",
    "print_indexes(sol)"
   ]
  },
  {
   "cell_type": "code",
   "execution_count": 700,
   "metadata": {},
   "outputs": [],
   "source": [
    "def generate_5_instances2(n):\n",
    "    instances = []\n",
    "    for i in range(5):\n",
    "        mdl, c = generate_instance2(n)\n",
    "        instances.append((mdl,c))\n",
    "    return instances"
   ]
  },
  {
   "cell_type": "code",
   "execution_count": 703,
   "metadata": {},
   "outputs": [],
   "source": [
    "import matplotlib.pyplot as plt\n",
    "\n",
    "def print_plots2(tailles):\n",
    "\n",
    "    temps_s1_sans_restart = []\n",
    "    temps_s1_avec_restart = []\n",
    "    temps_s2_sans_restart = []\n",
    "    temps_s2_avec_restart = []\n",
    "\n",
    "    nb_noeuds_s1_sans_restart = []\n",
    "    nb_noeuds_s1_avec_restart = []\n",
    "    nb_noeuds_s2_sans_restart = []\n",
    "    nb_noeuds_s2_avec_restart = []\n",
    "\n",
    "    for taille in tailles:\n",
    "        #Variables pour le calcul des moyennes du temps d'exécution\n",
    "        temps_moyen_s1_sans_rst = 0\n",
    "        temps_moyen_s1_avec_rst = 0\n",
    "        temps_moyen_s2_sans_rst = 0\n",
    "        temps_moyen_s2_avec_rst = 0\n",
    "        nb_noeuds_moyen_s1_sans_rst = 0\n",
    "        nb_noeuds_moyen_s1_avec_rst = 0\n",
    "        nb_noeuds_moyen_s2_sans_rst = 0\n",
    "        nb_noeuds_moyen_s2_avec_rst = 0\n",
    "        \n",
    "        #Création des 5 instances (on aura 5 instances pour chaque taille)\n",
    "        instances = generate_5_instances2(taille)\n",
    "        \n",
    "        \n",
    "        for instance in instances:\n",
    "            #Création du modèle\n",
    "            mdl, couples = instance\n",
    "            \n",
    "            #S1 : default\n",
    "            \n",
    "            sol1 = mdl.solve(trace_log=False, SearchType=\"DepthFirst\", TimeLimit=200)\n",
    "            temps_moyen_s1_sans_rst += sol1.get_solver_info('TotalTime')\n",
    "            nb_noeuds_moyen_s1_sans_rst += sol1.get_solver_info('NumberOfChoicePoints')\n",
    "            \n",
    "            sol2 = mdl.solve(trace_log=False, SearchType=\"Restart\", TimeLimit=200)\n",
    "            temps_moyen_s1_avec_rst += sol2.get_solver_info('TotalTime')\n",
    "            nb_noeuds_moyen_s1_avec_rst += sol2.get_solver_info('NumberOfChoicePoints')\n",
    "            \n",
    "            #S2 : <random, random>\n",
    "            \n",
    "            mdl2 = mdl\n",
    "            S2 = mdl2.search_phase(varchooser=mdl2.select_random_var(),valuechooser=mdl2.select_random_value())\n",
    "            mdl2.add_search_phase(S2)\n",
    "            \n",
    "            sol3 = mdl2.solve(trace_log=False, SearchType=\"DepthFirst\", TimeLimit=200)\n",
    "            temps_moyen_s2_sans_rst += sol3.get_solver_info('TotalTime')\n",
    "            nb_noeuds_moyen_s2_sans_rst += sol3.get_solver_info('NumberOfChoicePoints')\n",
    "            \n",
    "            sol4 = mdl2.solve(trace_log=False, SearchType=\"Restart\", TimeLimit=200)\n",
    "            temps_moyen_s2_avec_rst += sol4.get_solver_info('TotalTime')\n",
    "            nb_noeuds_moyen_s2_avec_rst += sol4.get_solver_info('NumberOfChoicePoints')\n",
    "\n",
    "        temps_s1_sans_restart.append(temps_moyen_s1_sans_rst/5)\n",
    "        nb_noeuds_s1_sans_restart.append(nb_noeuds_moyen_s1_sans_rst/5)\n",
    "\n",
    "        temps_s1_avec_restart.append(temps_moyen_s1_avec_rst/5)\n",
    "        nb_noeuds_s1_avec_restart.append(nb_noeuds_moyen_s1_avec_rst/5)\n",
    "        \n",
    "        temps_s2_sans_restart.append(temps_moyen_s2_sans_rst/5)\n",
    "        nb_noeuds_s2_sans_restart.append(nb_noeuds_moyen_s2_sans_rst/5)\n",
    "\n",
    "        temps_s2_avec_restart.append(temps_moyen_s2_avec_rst/5)\n",
    "        nb_noeuds_s2_avec_restart.append(nb_noeuds_moyen_s2_avec_rst/5)\n",
    "\n",
    "\n",
    "    plt.plot(tailles, temps_s1_sans_restart, label=\"S1 sans restart\")\n",
    "    plt.plot(tailles, temps_s1_avec_restart, label=\"S1 avec restart\")\n",
    "    plt.plot(tailles, temps_s2_sans_restart, label=\"S2 sans restart\")\n",
    "    plt.plot(tailles, temps_s2_avec_restart, label=\"S2 avec restart\")\n",
    "    plt.ylabel(\"Temps d'exécution\")\n",
    "    plt.xlabel(\"Taille des instances\")\n",
    "    plt.legend()\n",
    "    plt.show()\n",
    "\n",
    "    plt.plot(tailles, nb_noeuds_s1_sans_restart, label=\"S1 sans restart\")\n",
    "    plt.plot(tailles, nb_noeuds_s1_avec_restart, label=\"S1 avec restart\")\n",
    "    plt.plot(tailles, nb_noeuds_s2_sans_restart, label=\"S2 sans restart\")\n",
    "    plt.plot(tailles, nb_noeuds_s2_avec_restart, label=\"S2 avec restart\")\n",
    "    plt.ylabel(\"Nombre de noeuds\")\n",
    "    plt.xlabel(\"Taille des instances\")\n",
    "    plt.legend()\n",
    "    plt.show()"
   ]
  },
  {
   "cell_type": "code",
   "execution_count": 704,
   "metadata": {},
   "outputs": [
    {
     "data": {
      "image/png": "[encoded data removed]",
      "text/plain": [
       "<Figure size 432x288 with 1 Axes>"
      ]
     },
     "metadata": {
      "needs_background": "light"
     },
     "output_type": "display_data"
    },
    {
     "data": {
      "image/png": "[encoded data removed]",
      "text/plain": [
       "<Figure size 432x288 with 1 Axes>"
      ]
     },
     "metadata": {
      "needs_background": "light"
     },
     "output_type": "display_data"
    }
   ],
   "source": [
    "print_plots2(sizes)"
   ]
  },
  {
   "cell_type": "code",
   "execution_count": null,
   "metadata": {},
   "outputs": [],
   "source": []
  }
 ],
 "metadata": {
  "kernelspec": {
   "display_name": "Python 3 (ipykernel)",
   "language": "python",
   "name": "python3"
  },
  "language_info": {
   "codemirror_mode": {
    "name": "ipython",
    "version": 3
   },
   "file_extension": ".py",
   "mimetype": "text/x-python",
   "name": "python",
   "nbconvert_exporter": "python",
   "pygments_lexer": "ipython3",
   "version": "3.9.7"
  }
 },
 "nbformat": 4,
 "nbformat_minor": 2
}
